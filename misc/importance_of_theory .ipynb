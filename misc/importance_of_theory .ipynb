{
 "cells": [
  {
   "cell_type": "code",
   "execution_count": 53,
   "id": "fe4121e2",
   "metadata": {},
   "outputs": [],
   "source": [
    "import numpy as np\n",
    "import pandas as pd\n",
    "import matplotlib.pyplot as plt\n",
    "import seaborn as sns\n",
    "from sklearn.linear_model import LinearRegression\n",
    "from sklearn.ensemble import RandomForestRegressor\n",
    "from sklearn.model_selection import train_test_split\n",
    "from sklearn.metrics import r2_score, mean_absolute_percentage_error\n",
    "from sklearn.decomposition import PCA\n",
    "from sklearn.datasets import fetch_california_housing\n",
    "from statsmodels.stats.weightstats import ztest\n",
    "from scipy.stats import ks_2samp\n",
    "from sklearn.metrics import classification_report, confusion_matrix, roc_auc_score, precision_recall_curve, f1_score\n",
    "from catboost import CatBoostClassifier, Pool, cv, EShapCalcType, EFeaturesSelectionAlgorithm\n",
    "pd.pandas.set_option(\"display.max_columns\",None)\n",
    "%matplotlib inline"
   ]
  },
  {
   "cell_type": "code",
   "execution_count": 93,
   "id": "f7404e1e",
   "metadata": {},
   "outputs": [],
   "source": [
    "# Util functions\n",
    "def create_fig():\n",
    "    \n",
    "    fig,ax = plt.subplots(figsize=(10,6))\n",
    "    ax.grid(which='major', axis='y', color='#758D99', alpha=0.6, zorder=1)\n",
    "    ax.xaxis.set_tick_params(labelsize=12)\n",
    "    ax.yaxis.set_tick_params(labelsize=12)\n",
    "    \n",
    "    return fig, ax\n",
    "\n",
    "def multi_mahalanobis(target_point:np.ndarray, reference_points:np.ndarray):\n",
    "    \n",
    "    if type(target_point) == float or type(target_point) == int:\n",
    "        \n",
    "        return (reference_points - target_point)**2 / (np.cov(reference_points))\n",
    "\n",
    "    diff = reference_points - target_point\n",
    "    \n",
    "    cov = np.cov(reference_points.T)\n",
    "            \n",
    "    inv_covmat = np.linalg.inv(cov)\n",
    "    \n",
    "    left = np.dot(diff, inv_covmat)\n",
    "    mahal = np.dot(left, diff.T)\n",
    "    \n",
    "\n",
    "    return mahal.diagonal()"
   ]
  },
  {
   "cell_type": "markdown",
   "id": "1a051178",
   "metadata": {},
   "source": [
    "### Using correlation for feature selection: learning the function $y = x_1x_2 + x_3^2 + x1$\n",
    "- Low correlation does not imply low predictive power"
   ]
  },
  {
   "cell_type": "code",
   "execution_count": 185,
   "id": "c1d493ad",
   "metadata": {},
   "outputs": [
    {
     "data": {
      "text/html": [
       "<div>\n",
       "<style scoped>\n",
       "    .dataframe tbody tr th:only-of-type {\n",
       "        vertical-align: middle;\n",
       "    }\n",
       "\n",
       "    .dataframe tbody tr th {\n",
       "        vertical-align: top;\n",
       "    }\n",
       "\n",
       "    .dataframe thead th {\n",
       "        text-align: right;\n",
       "    }\n",
       "</style>\n",
       "<table border=\"1\" class=\"dataframe\">\n",
       "  <thead>\n",
       "    <tr style=\"text-align: right;\">\n",
       "      <th></th>\n",
       "      <th>x1</th>\n",
       "      <th>x2</th>\n",
       "      <th>x3</th>\n",
       "      <th>y</th>\n",
       "    </tr>\n",
       "  </thead>\n",
       "  <tbody>\n",
       "    <tr>\n",
       "      <th>0</th>\n",
       "      <td>-0.243022</td>\n",
       "      <td>1.039130</td>\n",
       "      <td>0.354150</td>\n",
       "      <td>-0.370132</td>\n",
       "    </tr>\n",
       "    <tr>\n",
       "      <th>1</th>\n",
       "      <td>-2.045612</td>\n",
       "      <td>-0.735520</td>\n",
       "      <td>0.516234</td>\n",
       "      <td>-0.274526</td>\n",
       "    </tr>\n",
       "    <tr>\n",
       "      <th>2</th>\n",
       "      <td>0.054396</td>\n",
       "      <td>1.684904</td>\n",
       "      <td>0.552751</td>\n",
       "      <td>0.451582</td>\n",
       "    </tr>\n",
       "    <tr>\n",
       "      <th>3</th>\n",
       "      <td>-0.459771</td>\n",
       "      <td>-0.236450</td>\n",
       "      <td>-0.131698</td>\n",
       "      <td>-0.333713</td>\n",
       "    </tr>\n",
       "    <tr>\n",
       "      <th>4</th>\n",
       "      <td>-0.234194</td>\n",
       "      <td>0.435908</td>\n",
       "      <td>-1.191516</td>\n",
       "      <td>1.083429</td>\n",
       "    </tr>\n",
       "  </tbody>\n",
       "</table>\n",
       "</div>"
      ],
      "text/plain": [
       "         x1        x2        x3         y\n",
       "0 -0.243022  1.039130  0.354150 -0.370132\n",
       "1 -2.045612 -0.735520  0.516234 -0.274526\n",
       "2  0.054396  1.684904  0.552751  0.451582\n",
       "3 -0.459771 -0.236450 -0.131698 -0.333713\n",
       "4 -0.234194  0.435908 -1.191516  1.083429"
      ]
     },
     "execution_count": 185,
     "metadata": {},
     "output_type": "execute_result"
    }
   ],
   "source": [
    "# Create a fake dataset\n",
    "n = 50000\n",
    "\n",
    "x1 = np.random.normal(size=n)\n",
    "x2 = np.random.normal(size=n)\n",
    "x3 = np.random.normal(size=n)\n",
    "\n",
    "y = x1*x2 + x3**2 + x1\n",
    "\n",
    "data = pd.DataFrame({'x1':x1, 'x2':x2, 'x3':x3, 'y':y})\n",
    "data.head()"
   ]
  },
  {
   "cell_type": "code",
   "execution_count": 186,
   "id": "c76830a6",
   "metadata": {},
   "outputs": [
    {
     "data": {
      "text/html": [
       "<div>\n",
       "<style scoped>\n",
       "    .dataframe tbody tr th:only-of-type {\n",
       "        vertical-align: middle;\n",
       "    }\n",
       "\n",
       "    .dataframe tbody tr th {\n",
       "        vertical-align: top;\n",
       "    }\n",
       "\n",
       "    .dataframe thead th {\n",
       "        text-align: right;\n",
       "    }\n",
       "</style>\n",
       "<table border=\"1\" class=\"dataframe\">\n",
       "  <thead>\n",
       "    <tr style=\"text-align: right;\">\n",
       "      <th></th>\n",
       "      <th>x1</th>\n",
       "      <th>x2</th>\n",
       "      <th>x3</th>\n",
       "      <th>y</th>\n",
       "    </tr>\n",
       "  </thead>\n",
       "  <tbody>\n",
       "    <tr>\n",
       "      <th>x1</th>\n",
       "      <td>1.000000</td>\n",
       "      <td>-0.001333</td>\n",
       "      <td>-0.005507</td>\n",
       "      <td>0.501971</td>\n",
       "    </tr>\n",
       "    <tr>\n",
       "      <th>x2</th>\n",
       "      <td>-0.001333</td>\n",
       "      <td>1.000000</td>\n",
       "      <td>-0.000503</td>\n",
       "      <td>-0.001778</td>\n",
       "    </tr>\n",
       "    <tr>\n",
       "      <th>x3</th>\n",
       "      <td>-0.005507</td>\n",
       "      <td>-0.000503</td>\n",
       "      <td>1.000000</td>\n",
       "      <td>0.019095</td>\n",
       "    </tr>\n",
       "    <tr>\n",
       "      <th>y</th>\n",
       "      <td>0.501971</td>\n",
       "      <td>-0.001778</td>\n",
       "      <td>0.019095</td>\n",
       "      <td>1.000000</td>\n",
       "    </tr>\n",
       "  </tbody>\n",
       "</table>\n",
       "</div>"
      ],
      "text/plain": [
       "          x1        x2        x3         y\n",
       "x1  1.000000 -0.001333 -0.005507  0.501971\n",
       "x2 -0.001333  1.000000 -0.000503 -0.001778\n",
       "x3 -0.005507 -0.000503  1.000000  0.019095\n",
       "y   0.501971 -0.001778  0.019095  1.000000"
      ]
     },
     "execution_count": 186,
     "metadata": {},
     "output_type": "execute_result"
    }
   ],
   "source": [
    "# Look at correlation matrix\n",
    "data.corr()"
   ]
  },
  {
   "cell_type": "code",
   "execution_count": 187,
   "id": "567318e5",
   "metadata": {},
   "outputs": [
    {
     "name": "stdout",
     "output_type": "stream",
     "text": [
      "(40000, 1)\n"
     ]
    },
    {
     "data": {
      "text/html": [
       "<div>\n",
       "<style scoped>\n",
       "    .dataframe tbody tr th:only-of-type {\n",
       "        vertical-align: middle;\n",
       "    }\n",
       "\n",
       "    .dataframe tbody tr th {\n",
       "        vertical-align: top;\n",
       "    }\n",
       "\n",
       "    .dataframe thead th {\n",
       "        text-align: right;\n",
       "    }\n",
       "</style>\n",
       "<table border=\"1\" class=\"dataframe\">\n",
       "  <thead>\n",
       "    <tr style=\"text-align: right;\">\n",
       "      <th></th>\n",
       "      <th>x1</th>\n",
       "    </tr>\n",
       "  </thead>\n",
       "  <tbody>\n",
       "    <tr>\n",
       "      <th>16929</th>\n",
       "      <td>-0.889484</td>\n",
       "    </tr>\n",
       "    <tr>\n",
       "      <th>17150</th>\n",
       "      <td>0.414268</td>\n",
       "    </tr>\n",
       "    <tr>\n",
       "      <th>30587</th>\n",
       "      <td>-0.392389</td>\n",
       "    </tr>\n",
       "    <tr>\n",
       "      <th>38434</th>\n",
       "      <td>0.133040</td>\n",
       "    </tr>\n",
       "    <tr>\n",
       "      <th>41469</th>\n",
       "      <td>1.267242</td>\n",
       "    </tr>\n",
       "  </tbody>\n",
       "</table>\n",
       "</div>"
      ],
      "text/plain": [
       "             x1\n",
       "16929 -0.889484\n",
       "17150  0.414268\n",
       "30587 -0.392389\n",
       "38434  0.133040\n",
       "41469  1.267242"
      ]
     },
     "execution_count": 187,
     "metadata": {},
     "output_type": "execute_result"
    }
   ],
   "source": [
    "# Create training and testing sets\n",
    "x_train, x_test, y_train, y_test = train_test_split(data[['x1']], data['y'], test_size=0.20)\n",
    "print(x_train.shape)\n",
    "x_train.head()"
   ]
  },
  {
   "cell_type": "code",
   "execution_count": 188,
   "id": "21c3185d",
   "metadata": {},
   "outputs": [
    {
     "data": {
      "text/plain": [
       "RandomForestRegressor(max_depth=6, n_estimators=500)"
      ]
     },
     "execution_count": 188,
     "metadata": {},
     "output_type": "execute_result"
    }
   ],
   "source": [
    "# Fit random forest using only x1 as a feature\n",
    "model = RandomForestRegressor(n_estimators=500, max_depth=6)\n",
    "model.fit(x_train.values.reshape(-1,1), y_train)"
   ]
  },
  {
   "cell_type": "code",
   "execution_count": 189,
   "id": "c1632090",
   "metadata": {},
   "outputs": [
    {
     "name": "stderr",
     "output_type": "stream",
     "text": [
      "/Users/HarrisonHoffman/Desktop/DataScience/envs/baseprojects/lib/python3.9/site-packages/sklearn/base.py:443: UserWarning: X has feature names, but RandomForestRegressor was fitted without feature names\n",
      "  warnings.warn(\n"
     ]
    },
    {
     "name": "stdout",
     "output_type": "stream",
     "text": [
      "MAPE between actual and predicted: 6.66347298248034\n",
      "R-Squared between actual and predicted: 0.2536115264640161\n"
     ]
    },
    {
     "data": {
      "image/png": "[encoded data removed]",
      "text/plain": [
       "<Figure size 720x432 with 1 Axes>"
      ]
     },
     "metadata": {
      "needs_background": "light"
     },
     "output_type": "display_data"
    }
   ],
   "source": [
    "# Evaluate predictions on test set\n",
    "preds = model.predict(x_test)\n",
    "\n",
    "fig, ax = create_fig()\n",
    "ax.scatter(y_test, preds)\n",
    "ax.set_xlabel('Actual')\n",
    "ax.set_ylabel('Predicted')\n",
    "ax.set_title('Actual vs Predicted Target using $X1$ as a Feature')\n",
    "\n",
    "print(f'MAPE between actual and predicted: {mean_absolute_percentage_error(y_test, preds)}')\n",
    "print(f'R-Squared between actual and predicted: {r2_score(y_test, preds)}')"
   ]
  },
  {
   "cell_type": "code",
   "execution_count": 190,
   "id": "4c8547c8",
   "metadata": {},
   "outputs": [
    {
     "name": "stdout",
     "output_type": "stream",
     "text": [
      "(40000, 3)\n"
     ]
    },
    {
     "data": {
      "text/html": [
       "<div>\n",
       "<style scoped>\n",
       "    .dataframe tbody tr th:only-of-type {\n",
       "        vertical-align: middle;\n",
       "    }\n",
       "\n",
       "    .dataframe tbody tr th {\n",
       "        vertical-align: top;\n",
       "    }\n",
       "\n",
       "    .dataframe thead th {\n",
       "        text-align: right;\n",
       "    }\n",
       "</style>\n",
       "<table border=\"1\" class=\"dataframe\">\n",
       "  <thead>\n",
       "    <tr style=\"text-align: right;\">\n",
       "      <th></th>\n",
       "      <th>x1</th>\n",
       "      <th>x2</th>\n",
       "      <th>x3</th>\n",
       "    </tr>\n",
       "  </thead>\n",
       "  <tbody>\n",
       "    <tr>\n",
       "      <th>31675</th>\n",
       "      <td>-1.955055</td>\n",
       "      <td>0.587020</td>\n",
       "      <td>0.251535</td>\n",
       "    </tr>\n",
       "    <tr>\n",
       "      <th>25295</th>\n",
       "      <td>-0.602995</td>\n",
       "      <td>1.527895</td>\n",
       "      <td>0.045753</td>\n",
       "    </tr>\n",
       "    <tr>\n",
       "      <th>43814</th>\n",
       "      <td>-0.906124</td>\n",
       "      <td>-1.274655</td>\n",
       "      <td>0.138055</td>\n",
       "    </tr>\n",
       "    <tr>\n",
       "      <th>20866</th>\n",
       "      <td>0.666513</td>\n",
       "      <td>-0.751887</td>\n",
       "      <td>-1.491359</td>\n",
       "    </tr>\n",
       "    <tr>\n",
       "      <th>20522</th>\n",
       "      <td>0.536762</td>\n",
       "      <td>-0.173588</td>\n",
       "      <td>0.045723</td>\n",
       "    </tr>\n",
       "  </tbody>\n",
       "</table>\n",
       "</div>"
      ],
      "text/plain": [
       "             x1        x2        x3\n",
       "31675 -1.955055  0.587020  0.251535\n",
       "25295 -0.602995  1.527895  0.045753\n",
       "43814 -0.906124 -1.274655  0.138055\n",
       "20866  0.666513 -0.751887 -1.491359\n",
       "20522  0.536762 -0.173588  0.045723"
      ]
     },
     "execution_count": 190,
     "metadata": {},
     "output_type": "execute_result"
    }
   ],
   "source": [
    "# Create training and testing sets\n",
    "x_train, x_test, y_train, y_test = train_test_split(data[['x1','x2','x3']], data['y'], test_size=0.20)\n",
    "print(x_train.shape)\n",
    "x_train.head()"
   ]
  },
  {
   "cell_type": "code",
   "execution_count": 191,
   "id": "68167013",
   "metadata": {},
   "outputs": [
    {
     "data": {
      "text/plain": [
       "RandomForestRegressor(max_depth=6, n_estimators=500)"
      ]
     },
     "execution_count": 191,
     "metadata": {},
     "output_type": "execute_result"
    }
   ],
   "source": [
    "# Fit random forest using all features\n",
    "model = RandomForestRegressor(n_estimators=500, max_depth=6)\n",
    "model.fit(x_train, y_train)"
   ]
  },
  {
   "cell_type": "code",
   "execution_count": 193,
   "id": "2a23554b",
   "metadata": {},
   "outputs": [
    {
     "name": "stdout",
     "output_type": "stream",
     "text": [
      "MAPE between actual and predicted: 1.4802323989570438\n",
      "R-Squared between actual and predicted: 0.8809329902917163\n"
     ]
    },
    {
     "data": {
      "image/png": "[encoded data removed]",
      "text/plain": [
       "<Figure size 720x432 with 1 Axes>"
      ]
     },
     "metadata": {
      "needs_background": "light"
     },
     "output_type": "display_data"
    }
   ],
   "source": [
    "# Evaluate predictions on test set\n",
    "preds = model.predict(x_test)\n",
    "\n",
    "fig, ax = create_fig()\n",
    "ax.scatter(y_test, preds)\n",
    "ax.set_xlabel('Actual')\n",
    "ax.set_ylabel('Predicted')\n",
    "ax.set_title('Actual vs Predicted Target using all Features')\n",
    "\n",
    "print(f'MAPE between actual and predicted: {mean_absolute_percentage_error(y_test, preds)}')\n",
    "print(f'R-Squared between actual and predicted: {r2_score(y_test, preds)}')"
   ]
  },
  {
   "cell_type": "code",
   "execution_count": 201,
   "id": "89e95dd0",
   "metadata": {},
   "outputs": [
    {
     "data": {
      "text/plain": [
       "count    40000.000000\n",
       "mean         0.995204\n",
       "std          2.004660\n",
       "min        -10.755540\n",
       "25%         -0.062930\n",
       "50%          0.663482\n",
       "75%          1.880195\n",
       "max         20.720567\n",
       "Name: y, dtype: float64"
      ]
     },
     "execution_count": 201,
     "metadata": {},
     "output_type": "execute_result"
    }
   ],
   "source": [
    "y_train.describe()"
   ]
  },
  {
   "cell_type": "code",
   "execution_count": 202,
   "id": "62a0beca",
   "metadata": {},
   "outputs": [
    {
     "data": {
      "text/plain": [
       "count    10000.000000\n",
       "mean         0.990198\n",
       "std          1.989229\n",
       "min         -8.320167\n",
       "25%         -0.041274\n",
       "50%          0.656811\n",
       "75%          1.852250\n",
       "max         21.466919\n",
       "Name: y, dtype: float64"
      ]
     },
     "execution_count": 202,
     "metadata": {},
     "output_type": "execute_result"
    }
   ],
   "source": [
    "y_test.describe()"
   ]
  },
  {
   "cell_type": "markdown",
   "id": "fea62d22",
   "metadata": {},
   "source": [
    "#### Doing better with a linear model - random forests can't extrapolate"
   ]
  },
  {
   "cell_type": "code",
   "execution_count": 203,
   "id": "76395f59",
   "metadata": {},
   "outputs": [
    {
     "data": {
      "text/html": [
       "<div>\n",
       "<style scoped>\n",
       "    .dataframe tbody tr th:only-of-type {\n",
       "        vertical-align: middle;\n",
       "    }\n",
       "\n",
       "    .dataframe tbody tr th {\n",
       "        vertical-align: top;\n",
       "    }\n",
       "\n",
       "    .dataframe thead th {\n",
       "        text-align: right;\n",
       "    }\n",
       "</style>\n",
       "<table border=\"1\" class=\"dataframe\">\n",
       "  <thead>\n",
       "    <tr style=\"text-align: right;\">\n",
       "      <th></th>\n",
       "      <th>x1</th>\n",
       "      <th>x2</th>\n",
       "      <th>x3</th>\n",
       "      <th>x1x2</th>\n",
       "      <th>x3^2</th>\n",
       "    </tr>\n",
       "  </thead>\n",
       "  <tbody>\n",
       "    <tr>\n",
       "      <th>31675</th>\n",
       "      <td>-1.955055</td>\n",
       "      <td>0.587020</td>\n",
       "      <td>0.251535</td>\n",
       "      <td>-1.147656</td>\n",
       "      <td>0.063270</td>\n",
       "    </tr>\n",
       "    <tr>\n",
       "      <th>25295</th>\n",
       "      <td>-0.602995</td>\n",
       "      <td>1.527895</td>\n",
       "      <td>0.045753</td>\n",
       "      <td>-0.921313</td>\n",
       "      <td>0.002093</td>\n",
       "    </tr>\n",
       "    <tr>\n",
       "      <th>43814</th>\n",
       "      <td>-0.906124</td>\n",
       "      <td>-1.274655</td>\n",
       "      <td>0.138055</td>\n",
       "      <td>1.154996</td>\n",
       "      <td>0.019059</td>\n",
       "    </tr>\n",
       "    <tr>\n",
       "      <th>20866</th>\n",
       "      <td>0.666513</td>\n",
       "      <td>-0.751887</td>\n",
       "      <td>-1.491359</td>\n",
       "      <td>-0.501143</td>\n",
       "      <td>2.224151</td>\n",
       "    </tr>\n",
       "    <tr>\n",
       "      <th>20522</th>\n",
       "      <td>0.536762</td>\n",
       "      <td>-0.173588</td>\n",
       "      <td>0.045723</td>\n",
       "      <td>-0.093175</td>\n",
       "      <td>0.002091</td>\n",
       "    </tr>\n",
       "  </tbody>\n",
       "</table>\n",
       "</div>"
      ],
      "text/plain": [
       "             x1        x2        x3      x1x2      x3^2\n",
       "31675 -1.955055  0.587020  0.251535 -1.147656  0.063270\n",
       "25295 -0.602995  1.527895  0.045753 -0.921313  0.002093\n",
       "43814 -0.906124 -1.274655  0.138055  1.154996  0.019059\n",
       "20866  0.666513 -0.751887 -1.491359 -0.501143  2.224151\n",
       "20522  0.536762 -0.173588  0.045723 -0.093175  0.002091"
      ]
     },
     "execution_count": 203,
     "metadata": {},
     "output_type": "execute_result"
    }
   ],
   "source": [
    "x_train['x1x2'] = x_train['x1']*x_train['x2']\n",
    "x_train['x3^2'] = x_train['x3']**2\n",
    "\n",
    "x_test['x1x2'] = x_test['x1']*x_test['x2']\n",
    "x_test['x3^2'] = x_test['x3']**2\n",
    "\n",
    "x_train.head()"
   ]
  },
  {
   "cell_type": "code",
   "execution_count": 204,
   "id": "51d93e45",
   "metadata": {},
   "outputs": [
    {
     "data": {
      "text/plain": [
       "LinearRegression()"
      ]
     },
     "execution_count": 204,
     "metadata": {},
     "output_type": "execute_result"
    }
   ],
   "source": [
    "# Fit linear model\n",
    "model = LinearRegression()\n",
    "model.fit(x_train, y_train)"
   ]
  },
  {
   "cell_type": "code",
   "execution_count": 205,
   "id": "ab34ed35",
   "metadata": {},
   "outputs": [
    {
     "name": "stdout",
     "output_type": "stream",
     "text": [
      "MAPE between actual and predicted: 3.870643889242756e-15\n",
      "R-Squared between actual and predicted: 1.0\n"
     ]
    },
    {
     "data": {
      "image/png": "[encoded data removed]",
      "text/plain": [
       "<Figure size 720x432 with 1 Axes>"
      ]
     },
     "metadata": {
      "needs_background": "light"
     },
     "output_type": "display_data"
    }
   ],
   "source": [
    "# Evaluate predictions on test set\n",
    "preds = model.predict(x_test)\n",
    "\n",
    "fig, ax = create_fig()\n",
    "ax.scatter(y_test, preds)\n",
    "ax.set_xlabel('Actual')\n",
    "ax.set_ylabel('Predicted')\n",
    "ax.set_title('Actual vs Predicted Target using all Features')\n",
    "\n",
    "print(f'MAPE between actual and predicted: {mean_absolute_percentage_error(y_test, preds)}')\n",
    "print(f'R-Squared between actual and predicted: {r2_score(y_test, preds)}')"
   ]
  },
  {
   "cell_type": "code",
   "execution_count": 206,
   "id": "e25a2799",
   "metadata": {},
   "outputs": [
    {
     "data": {
      "text/plain": [
       "array([ 1.00000000e+00,  2.22044605e-16, -4.44089210e-16,  1.00000000e+00,\n",
       "        1.00000000e+00])"
      ]
     },
     "execution_count": 206,
     "metadata": {},
     "output_type": "execute_result"
    }
   ],
   "source": [
    "model.coef_"
   ]
  },
  {
   "cell_type": "markdown",
   "id": "6240f0e7",
   "metadata": {},
   "source": [
    "### Statistical significance does not imply a meaningful difference\n",
    "- Effect size should be considered"
   ]
  },
  {
   "cell_type": "code",
   "execution_count": 273,
   "id": "cde07609",
   "metadata": {},
   "outputs": [
    {
     "name": "stderr",
     "output_type": "stream",
     "text": [
      "/Users/HarrisonHoffman/Desktop/DataScience/envs/baseprojects/lib/python3.9/site-packages/seaborn/distributions.py:2619: FutureWarning: `distplot` is a deprecated function and will be removed in a future version. Please adapt your code to use either `displot` (a figure-level function with similar flexibility) or `histplot` (an axes-level function for histograms).\n",
      "  warnings.warn(msg, FutureWarning)\n",
      "/Users/HarrisonHoffman/Desktop/DataScience/envs/baseprojects/lib/python3.9/site-packages/seaborn/distributions.py:2619: FutureWarning: `distplot` is a deprecated function and will be removed in a future version. Please adapt your code to use either `displot` (a figure-level function with similar flexibility) or `histplot` (an axes-level function for histograms).\n",
      "  warnings.warn(msg, FutureWarning)\n"
     ]
    },
    {
     "data": {
      "text/plain": [
       "<matplotlib.legend.Legend at 0x13a5dfaf0>"
      ]
     },
     "execution_count": 273,
     "metadata": {},
     "output_type": "execute_result"
    },
    {
     "data": {
      "image/png": "[encoded data removed]",
      "text/plain": [
       "<Figure size 720x432 with 1 Axes>"
      ]
     },
     "metadata": {
      "needs_background": "light"
     },
     "output_type": "display_data"
    }
   ],
   "source": [
    "n1 = 5000\n",
    "n2 = 1000\n",
    "\n",
    "old_program = np.random.normal(loc=2, scale=4, size=n1)\n",
    "new_program = np.random.normal(loc=2.4, scale=4.8, size=n2)\n",
    "\n",
    "fig, ax = create_fig()\n",
    "sns.distplot(old_program, label='Old Program')\n",
    "sns.distplot(new_program, label='New Program')\n",
    "ax.set_xlabel('Muscle Mass Gained (lbs)')\n",
    "ax.legend()"
   ]
  },
  {
   "cell_type": "code",
   "execution_count": 274,
   "id": "43b8f263",
   "metadata": {},
   "outputs": [
    {
     "data": {
      "text/plain": [
       "count    5000.000000\n",
       "mean        2.033940\n",
       "std         3.989209\n",
       "min       -11.700204\n",
       "25%        -0.641931\n",
       "50%         2.029038\n",
       "75%         4.756619\n",
       "max        17.510815\n",
       "dtype: float64"
      ]
     },
     "execution_count": 274,
     "metadata": {},
     "output_type": "execute_result"
    }
   ],
   "source": [
    "pd.Series(old_program).describe()"
   ]
  },
  {
   "cell_type": "code",
   "execution_count": 275,
   "id": "91ebd08c",
   "metadata": {},
   "outputs": [
    {
     "data": {
      "text/plain": [
       "count    1000.000000\n",
       "mean        2.471393\n",
       "std         4.815048\n",
       "min       -13.565039\n",
       "25%        -0.548481\n",
       "50%         2.352121\n",
       "75%         5.420964\n",
       "max        17.425636\n",
       "dtype: float64"
      ]
     },
     "execution_count": 275,
     "metadata": {},
     "output_type": "execute_result"
    }
   ],
   "source": [
    "pd.Series(new_program).describe()"
   ]
  },
  {
   "cell_type": "markdown",
   "id": "4708c16c",
   "metadata": {},
   "source": [
    "# $d={\\frac {{\\bar {x}}_{1}-{\\bar {x}}_{2}}{s}}$\n",
    "\n",
    "\n",
    "# $s={\\sqrt {\\frac {(n_{1}-1)s_{1}^{2}+(n_{2}-1)s_{2}^{2}}{n_{1}+n_{2}-2}}}$\n",
    "\n",
    "### ${\\bar {x}}_{1}$ -  group 1 sample mean"
   ]
  },
  {
   "cell_type": "code",
   "execution_count": null,
   "id": "aaea82a0",
   "metadata": {},
   "outputs": [],
   "source": []
  },
  {
   "cell_type": "code",
   "execution_count": 279,
   "id": "ceb590e8",
   "metadata": {},
   "outputs": [
    {
     "data": {
      "text/plain": [
       "(-3.0516057103606307, 0.0022762088288216372)"
      ]
     },
     "execution_count": 279,
     "metadata": {},
     "output_type": "execute_result"
    }
   ],
   "source": [
    "ztest(old_program, new_program)"
   ]
  },
  {
   "cell_type": "code",
   "execution_count": 282,
   "id": "a5fb1e32",
   "metadata": {},
   "outputs": [
    {
     "data": {
      "text/plain": [
       "0.10573083435878816"
      ]
     },
     "execution_count": 282,
     "metadata": {},
     "output_type": "execute_result"
    }
   ],
   "source": [
    "# Compute effect size\n",
    "sd_pooled = np.sqrt(((n1-1)*old_program.std()**2 + (n2-1)*new_program.std()**2) / (n1 + n2 - 2))\n",
    "cohen_d = (new_program.mean() - old_program.mean()) / sd_pooled\n",
    "\n",
    "cohen_d"
   ]
  },
  {
   "cell_type": "code",
   "execution_count": 278,
   "id": "706618b8",
   "metadata": {},
   "outputs": [
    {
     "data": {
      "text/plain": [
       "KstestResult(statistic=0.0714, pvalue=0.0003932360604497198)"
      ]
     },
     "execution_count": 278,
     "metadata": {},
     "output_type": "execute_result"
    }
   ],
   "source": [
    "ks_2samp(old_program, new_program)"
   ]
  },
  {
   "cell_type": "markdown",
   "id": "87b6f811",
   "metadata": {},
   "source": [
    "### Tree-based feature importance can be very deceiving "
   ]
  },
  {
   "cell_type": "code",
   "execution_count": 45,
   "id": "a86daf29",
   "metadata": {},
   "outputs": [
    {
     "name": "stdout",
     "output_type": "stream",
     "text": [
      "(3630, 37)\n"
     ]
    },
    {
     "data": {
      "text/html": [
       "<div>\n",
       "<style scoped>\n",
       "    .dataframe tbody tr th:only-of-type {\n",
       "        vertical-align: middle;\n",
       "    }\n",
       "\n",
       "    .dataframe tbody tr th {\n",
       "        vertical-align: top;\n",
       "    }\n",
       "\n",
       "    .dataframe thead th {\n",
       "        text-align: right;\n",
       "    }\n",
       "</style>\n",
       "<table border=\"1\" class=\"dataframe\">\n",
       "  <thead>\n",
       "    <tr style=\"text-align: right;\">\n",
       "      <th></th>\n",
       "      <th>Marital status</th>\n",
       "      <th>Application mode</th>\n",
       "      <th>Application order</th>\n",
       "      <th>Course</th>\n",
       "      <th>Daytime/evening attendance</th>\n",
       "      <th>Previous qualification</th>\n",
       "      <th>Previous qualification (grade)</th>\n",
       "      <th>Nacionality</th>\n",
       "      <th>Mother's qualification</th>\n",
       "      <th>Father's qualification</th>\n",
       "      <th>Mother's occupation</th>\n",
       "      <th>Father's occupation</th>\n",
       "      <th>Admission grade</th>\n",
       "      <th>Displaced</th>\n",
       "      <th>Educational special needs</th>\n",
       "      <th>Debtor</th>\n",
       "      <th>Tuition fees up to date</th>\n",
       "      <th>Gender</th>\n",
       "      <th>Scholarship holder</th>\n",
       "      <th>Age at enrollment</th>\n",
       "      <th>International</th>\n",
       "      <th>Curricular units 1st sem (credited)</th>\n",
       "      <th>Curricular units 1st sem (enrolled)</th>\n",
       "      <th>Curricular units 1st sem (evaluations)</th>\n",
       "      <th>Curricular units 1st sem (approved)</th>\n",
       "      <th>Curricular units 1st sem (grade)</th>\n",
       "      <th>Curricular units 1st sem (without evaluations)</th>\n",
       "      <th>Curricular units 2nd sem (credited)</th>\n",
       "      <th>Curricular units 2nd sem (enrolled)</th>\n",
       "      <th>Curricular units 2nd sem (evaluations)</th>\n",
       "      <th>Curricular units 2nd sem (approved)</th>\n",
       "      <th>Curricular units 2nd sem (grade)</th>\n",
       "      <th>Curricular units 2nd sem (without evaluations)</th>\n",
       "      <th>Unemployment rate</th>\n",
       "      <th>Inflation rate</th>\n",
       "      <th>GDP</th>\n",
       "      <th>Target</th>\n",
       "    </tr>\n",
       "  </thead>\n",
       "  <tbody>\n",
       "    <tr>\n",
       "      <th>0</th>\n",
       "      <td>1</td>\n",
       "      <td>17</td>\n",
       "      <td>5</td>\n",
       "      <td>171</td>\n",
       "      <td>1</td>\n",
       "      <td>1</td>\n",
       "      <td>122.0</td>\n",
       "      <td>1</td>\n",
       "      <td>19</td>\n",
       "      <td>12</td>\n",
       "      <td>5</td>\n",
       "      <td>9</td>\n",
       "      <td>127.3</td>\n",
       "      <td>1</td>\n",
       "      <td>0</td>\n",
       "      <td>0</td>\n",
       "      <td>1</td>\n",
       "      <td>1</td>\n",
       "      <td>0</td>\n",
       "      <td>20</td>\n",
       "      <td>0</td>\n",
       "      <td>0</td>\n",
       "      <td>0</td>\n",
       "      <td>0</td>\n",
       "      <td>0</td>\n",
       "      <td>0.000000</td>\n",
       "      <td>0</td>\n",
       "      <td>0</td>\n",
       "      <td>0</td>\n",
       "      <td>0</td>\n",
       "      <td>0</td>\n",
       "      <td>0.000000</td>\n",
       "      <td>0</td>\n",
       "      <td>10.8</td>\n",
       "      <td>1.4</td>\n",
       "      <td>1.74</td>\n",
       "      <td>0</td>\n",
       "    </tr>\n",
       "    <tr>\n",
       "      <th>1</th>\n",
       "      <td>1</td>\n",
       "      <td>15</td>\n",
       "      <td>1</td>\n",
       "      <td>9254</td>\n",
       "      <td>1</td>\n",
       "      <td>1</td>\n",
       "      <td>160.0</td>\n",
       "      <td>1</td>\n",
       "      <td>1</td>\n",
       "      <td>3</td>\n",
       "      <td>3</td>\n",
       "      <td>3</td>\n",
       "      <td>142.5</td>\n",
       "      <td>1</td>\n",
       "      <td>0</td>\n",
       "      <td>0</td>\n",
       "      <td>0</td>\n",
       "      <td>1</td>\n",
       "      <td>0</td>\n",
       "      <td>19</td>\n",
       "      <td>0</td>\n",
       "      <td>0</td>\n",
       "      <td>6</td>\n",
       "      <td>6</td>\n",
       "      <td>6</td>\n",
       "      <td>14.000000</td>\n",
       "      <td>0</td>\n",
       "      <td>0</td>\n",
       "      <td>6</td>\n",
       "      <td>6</td>\n",
       "      <td>6</td>\n",
       "      <td>13.666667</td>\n",
       "      <td>0</td>\n",
       "      <td>13.9</td>\n",
       "      <td>-0.3</td>\n",
       "      <td>0.79</td>\n",
       "      <td>1</td>\n",
       "    </tr>\n",
       "    <tr>\n",
       "      <th>2</th>\n",
       "      <td>1</td>\n",
       "      <td>1</td>\n",
       "      <td>5</td>\n",
       "      <td>9070</td>\n",
       "      <td>1</td>\n",
       "      <td>1</td>\n",
       "      <td>122.0</td>\n",
       "      <td>1</td>\n",
       "      <td>37</td>\n",
       "      <td>37</td>\n",
       "      <td>9</td>\n",
       "      <td>9</td>\n",
       "      <td>124.8</td>\n",
       "      <td>1</td>\n",
       "      <td>0</td>\n",
       "      <td>0</td>\n",
       "      <td>0</td>\n",
       "      <td>1</td>\n",
       "      <td>0</td>\n",
       "      <td>19</td>\n",
       "      <td>0</td>\n",
       "      <td>0</td>\n",
       "      <td>6</td>\n",
       "      <td>0</td>\n",
       "      <td>0</td>\n",
       "      <td>0.000000</td>\n",
       "      <td>0</td>\n",
       "      <td>0</td>\n",
       "      <td>6</td>\n",
       "      <td>0</td>\n",
       "      <td>0</td>\n",
       "      <td>0.000000</td>\n",
       "      <td>0</td>\n",
       "      <td>10.8</td>\n",
       "      <td>1.4</td>\n",
       "      <td>1.74</td>\n",
       "      <td>0</td>\n",
       "    </tr>\n",
       "    <tr>\n",
       "      <th>3</th>\n",
       "      <td>1</td>\n",
       "      <td>17</td>\n",
       "      <td>2</td>\n",
       "      <td>9773</td>\n",
       "      <td>1</td>\n",
       "      <td>1</td>\n",
       "      <td>122.0</td>\n",
       "      <td>1</td>\n",
       "      <td>38</td>\n",
       "      <td>37</td>\n",
       "      <td>5</td>\n",
       "      <td>3</td>\n",
       "      <td>119.6</td>\n",
       "      <td>1</td>\n",
       "      <td>0</td>\n",
       "      <td>0</td>\n",
       "      <td>1</td>\n",
       "      <td>0</td>\n",
       "      <td>0</td>\n",
       "      <td>20</td>\n",
       "      <td>0</td>\n",
       "      <td>0</td>\n",
       "      <td>6</td>\n",
       "      <td>8</td>\n",
       "      <td>6</td>\n",
       "      <td>13.428571</td>\n",
       "      <td>0</td>\n",
       "      <td>0</td>\n",
       "      <td>6</td>\n",
       "      <td>10</td>\n",
       "      <td>5</td>\n",
       "      <td>12.400000</td>\n",
       "      <td>0</td>\n",
       "      <td>9.4</td>\n",
       "      <td>-0.8</td>\n",
       "      <td>-3.12</td>\n",
       "      <td>1</td>\n",
       "    </tr>\n",
       "    <tr>\n",
       "      <th>4</th>\n",
       "      <td>2</td>\n",
       "      <td>39</td>\n",
       "      <td>1</td>\n",
       "      <td>8014</td>\n",
       "      <td>0</td>\n",
       "      <td>1</td>\n",
       "      <td>100.0</td>\n",
       "      <td>1</td>\n",
       "      <td>37</td>\n",
       "      <td>38</td>\n",
       "      <td>9</td>\n",
       "      <td>9</td>\n",
       "      <td>141.5</td>\n",
       "      <td>0</td>\n",
       "      <td>0</td>\n",
       "      <td>0</td>\n",
       "      <td>1</td>\n",
       "      <td>0</td>\n",
       "      <td>0</td>\n",
       "      <td>45</td>\n",
       "      <td>0</td>\n",
       "      <td>0</td>\n",
       "      <td>6</td>\n",
       "      <td>9</td>\n",
       "      <td>5</td>\n",
       "      <td>12.333333</td>\n",
       "      <td>0</td>\n",
       "      <td>0</td>\n",
       "      <td>6</td>\n",
       "      <td>6</td>\n",
       "      <td>6</td>\n",
       "      <td>13.000000</td>\n",
       "      <td>0</td>\n",
       "      <td>13.9</td>\n",
       "      <td>-0.3</td>\n",
       "      <td>0.79</td>\n",
       "      <td>1</td>\n",
       "    </tr>\n",
       "  </tbody>\n",
       "</table>\n",
       "</div>"
      ],
      "text/plain": [
       "   Marital status  Application mode  Application order  Course  \\\n",
       "0               1                17                  5     171   \n",
       "1               1                15                  1    9254   \n",
       "2               1                 1                  5    9070   \n",
       "3               1                17                  2    9773   \n",
       "4               2                39                  1    8014   \n",
       "\n",
       "   Daytime/evening attendance  Previous qualification  \\\n",
       "0                           1                       1   \n",
       "1                           1                       1   \n",
       "2                           1                       1   \n",
       "3                           1                       1   \n",
       "4                           0                       1   \n",
       "\n",
       "   Previous qualification (grade)  Nacionality  Mother's qualification  \\\n",
       "0                           122.0            1                      19   \n",
       "1                           160.0            1                       1   \n",
       "2                           122.0            1                      37   \n",
       "3                           122.0            1                      38   \n",
       "4                           100.0            1                      37   \n",
       "\n",
       "   Father's qualification  Mother's occupation  Father's occupation  \\\n",
       "0                      12                    5                    9   \n",
       "1                       3                    3                    3   \n",
       "2                      37                    9                    9   \n",
       "3                      37                    5                    3   \n",
       "4                      38                    9                    9   \n",
       "\n",
       "   Admission grade  Displaced  Educational special needs  Debtor  \\\n",
       "0            127.3          1                          0       0   \n",
       "1            142.5          1                          0       0   \n",
       "2            124.8          1                          0       0   \n",
       "3            119.6          1                          0       0   \n",
       "4            141.5          0                          0       0   \n",
       "\n",
       "   Tuition fees up to date  Gender  Scholarship holder  Age at enrollment  \\\n",
       "0                        1       1                   0                 20   \n",
       "1                        0       1                   0                 19   \n",
       "2                        0       1                   0                 19   \n",
       "3                        1       0                   0                 20   \n",
       "4                        1       0                   0                 45   \n",
       "\n",
       "   International  Curricular units 1st sem (credited)  \\\n",
       "0              0                                    0   \n",
       "1              0                                    0   \n",
       "2              0                                    0   \n",
       "3              0                                    0   \n",
       "4              0                                    0   \n",
       "\n",
       "   Curricular units 1st sem (enrolled)  \\\n",
       "0                                    0   \n",
       "1                                    6   \n",
       "2                                    6   \n",
       "3                                    6   \n",
       "4                                    6   \n",
       "\n",
       "   Curricular units 1st sem (evaluations)  \\\n",
       "0                                       0   \n",
       "1                                       6   \n",
       "2                                       0   \n",
       "3                                       8   \n",
       "4                                       9   \n",
       "\n",
       "   Curricular units 1st sem (approved)  Curricular units 1st sem (grade)  \\\n",
       "0                                    0                          0.000000   \n",
       "1                                    6                         14.000000   \n",
       "2                                    0                          0.000000   \n",
       "3                                    6                         13.428571   \n",
       "4                                    5                         12.333333   \n",
       "\n",
       "   Curricular units 1st sem (without evaluations)  \\\n",
       "0                                               0   \n",
       "1                                               0   \n",
       "2                                               0   \n",
       "3                                               0   \n",
       "4                                               0   \n",
       "\n",
       "   Curricular units 2nd sem (credited)  Curricular units 2nd sem (enrolled)  \\\n",
       "0                                    0                                    0   \n",
       "1                                    0                                    6   \n",
       "2                                    0                                    6   \n",
       "3                                    0                                    6   \n",
       "4                                    0                                    6   \n",
       "\n",
       "   Curricular units 2nd sem (evaluations)  \\\n",
       "0                                       0   \n",
       "1                                       6   \n",
       "2                                       0   \n",
       "3                                      10   \n",
       "4                                       6   \n",
       "\n",
       "   Curricular units 2nd sem (approved)  Curricular units 2nd sem (grade)  \\\n",
       "0                                    0                          0.000000   \n",
       "1                                    6                         13.666667   \n",
       "2                                    0                          0.000000   \n",
       "3                                    5                         12.400000   \n",
       "4                                    6                         13.000000   \n",
       "\n",
       "   Curricular units 2nd sem (without evaluations)  Unemployment rate  \\\n",
       "0                                               0               10.8   \n",
       "1                                               0               13.9   \n",
       "2                                               0               10.8   \n",
       "3                                               0                9.4   \n",
       "4                                               0               13.9   \n",
       "\n",
       "   Inflation rate   GDP  Target  \n",
       "0             1.4  1.74       0  \n",
       "1            -0.3  0.79       1  \n",
       "2             1.4  1.74       0  \n",
       "3            -0.8 -3.12       1  \n",
       "4            -0.3  0.79       1  "
      ]
     },
     "execution_count": 45,
     "metadata": {},
     "output_type": "execute_result"
    }
   ],
   "source": [
    "# Read in academic success data\n",
    "data = pd.read_csv('Dropout_Academic Success - Sheet1.csv')\n",
    "\n",
    "# Only include students that have graduated or dropped out\n",
    "data = data[data['Target'] != 'Enrolled']\n",
    "\n",
    "# Convert target to a binary value\n",
    "data['Target'].replace({'Graduate':1, 'Dropout':0}, inplace=True)\n",
    "\n",
    "\n",
    "print(data.shape)\n",
    "data.head()"
   ]
  },
  {
   "cell_type": "code",
   "execution_count": 46,
   "id": "6124e4cf",
   "metadata": {},
   "outputs": [
    {
     "data": {
      "text/plain": [
       "0.6085399449035813"
      ]
     },
     "execution_count": 46,
     "metadata": {},
     "output_type": "execute_result"
    }
   ],
   "source": [
    "data['Target'].mean()"
   ]
  },
  {
   "cell_type": "code",
   "execution_count": 47,
   "id": "d60fd711",
   "metadata": {},
   "outputs": [
    {
     "data": {
      "text/html": [
       "<div>\n",
       "<style scoped>\n",
       "    .dataframe tbody tr th:only-of-type {\n",
       "        vertical-align: middle;\n",
       "    }\n",
       "\n",
       "    .dataframe tbody tr th {\n",
       "        vertical-align: top;\n",
       "    }\n",
       "\n",
       "    .dataframe thead th {\n",
       "        text-align: right;\n",
       "    }\n",
       "</style>\n",
       "<table border=\"1\" class=\"dataframe\">\n",
       "  <thead>\n",
       "    <tr style=\"text-align: right;\">\n",
       "      <th></th>\n",
       "      <th>feature</th>\n",
       "      <th>missing_prop</th>\n",
       "    </tr>\n",
       "  </thead>\n",
       "  <tbody>\n",
       "    <tr>\n",
       "      <th>0</th>\n",
       "      <td>Marital status</td>\n",
       "      <td>0.0</td>\n",
       "    </tr>\n",
       "    <tr>\n",
       "      <th>19</th>\n",
       "      <td>Age at enrollment</td>\n",
       "      <td>0.0</td>\n",
       "    </tr>\n",
       "    <tr>\n",
       "      <th>21</th>\n",
       "      <td>Curricular units 1st sem (credited)</td>\n",
       "      <td>0.0</td>\n",
       "    </tr>\n",
       "    <tr>\n",
       "      <th>22</th>\n",
       "      <td>Curricular units 1st sem (enrolled)</td>\n",
       "      <td>0.0</td>\n",
       "    </tr>\n",
       "    <tr>\n",
       "      <th>23</th>\n",
       "      <td>Curricular units 1st sem (evaluations)</td>\n",
       "      <td>0.0</td>\n",
       "    </tr>\n",
       "    <tr>\n",
       "      <th>24</th>\n",
       "      <td>Curricular units 1st sem (approved)</td>\n",
       "      <td>0.0</td>\n",
       "    </tr>\n",
       "    <tr>\n",
       "      <th>25</th>\n",
       "      <td>Curricular units 1st sem (grade)</td>\n",
       "      <td>0.0</td>\n",
       "    </tr>\n",
       "    <tr>\n",
       "      <th>26</th>\n",
       "      <td>Curricular units 1st sem (without evaluations)</td>\n",
       "      <td>0.0</td>\n",
       "    </tr>\n",
       "    <tr>\n",
       "      <th>27</th>\n",
       "      <td>Curricular units 2nd sem (credited)</td>\n",
       "      <td>0.0</td>\n",
       "    </tr>\n",
       "    <tr>\n",
       "      <th>28</th>\n",
       "      <td>Curricular units 2nd sem (enrolled)</td>\n",
       "      <td>0.0</td>\n",
       "    </tr>\n",
       "  </tbody>\n",
       "</table>\n",
       "</div>"
      ],
      "text/plain": [
       "                                           feature  missing_prop\n",
       "0                                   Marital status           0.0\n",
       "19                               Age at enrollment           0.0\n",
       "21             Curricular units 1st sem (credited)           0.0\n",
       "22             Curricular units 1st sem (enrolled)           0.0\n",
       "23          Curricular units 1st sem (evaluations)           0.0\n",
       "24             Curricular units 1st sem (approved)           0.0\n",
       "25                Curricular units 1st sem (grade)           0.0\n",
       "26  Curricular units 1st sem (without evaluations)           0.0\n",
       "27             Curricular units 2nd sem (credited)           0.0\n",
       "28             Curricular units 2nd sem (enrolled)           0.0"
      ]
     },
     "execution_count": 47,
     "metadata": {},
     "output_type": "execute_result"
    }
   ],
   "source": [
    "# Look at missing values\n",
    "na_props:pd.DataFrame = data.isna().mean().reset_index()\n",
    "na_props.columns = ['feature','missing_prop']\n",
    "\n",
    "na_mapping = dict(zip(na_props.feature, na_props.missing_prop))\n",
    "\n",
    "na_props.sort_values('missing_prop', ascending=False).head(10)"
   ]
  },
  {
   "cell_type": "code",
   "execution_count": 40,
   "id": "d13cf86e",
   "metadata": {},
   "outputs": [],
   "source": [
    "cat_cols = ['Marital Status','Application mode','Course','Daytime/evening attendance', 'Previous qualification',\n",
    "           'Nacionality',\"Mother's qualification\", \"Father's qualification\",\"Mother's occupation\",\n",
    "            \"Father's occupation\",'Displaced', 'Educational special needs', 'Debtor','Tuition fees up to date',\n",
    "           'International']\n",
    "\n"
   ]
  },
  {
   "cell_type": "code",
   "execution_count": 48,
   "id": "b268e222",
   "metadata": {},
   "outputs": [
    {
     "name": "stdout",
     "output_type": "stream",
     "text": [
      "(2904, 37)\n",
      "(726, 37)\n"
     ]
    }
   ],
   "source": [
    "# Create train/test split\n",
    "x,y = data.drop('Target', axis=1), data['Target']\n",
    "\n",
    "# Add random variable to inputs to evaluate feature importance\n",
    "x['rv'] = np.random.normal(size=len(x))\n",
    "\n",
    "x_train, x_test, y_train, y_test = train_test_split(x, y, test_size=0.20)\n",
    "\n",
    "print(x_train.shape)\n",
    "print(x_test.shape)"
   ]
  },
  {
   "cell_type": "code",
   "execution_count": 51,
   "id": "db3b799b",
   "metadata": {},
   "outputs": [
    {
     "data": {
      "application/vnd.jupyter.widget-view+json": {
       "model_id": "e07168da0fa64f5193865185c7539050",
       "version_major": 2,
       "version_minor": 0
      },
      "text/plain": [
       "MetricVisualizer(layout=Layout(align_self='stretch', height='500px'))"
      ]
     },
     "metadata": {},
     "output_type": "display_data"
    },
    {
     "name": "stdout",
     "output_type": "stream",
     "text": [
      "Learning rate set to 0.041235\n",
      "0:\tlearn: 0.6556774\ttest: 0.6561569\tbest: 0.6561569 (0)\ttotal: 6ms\tremaining: 6s\n",
      "50:\tlearn: 0.2513740\ttest: 0.2585637\tbest: 0.2585637 (50)\ttotal: 226ms\tremaining: 4.2s\n",
      "100:\tlearn: 0.2166107\ttest: 0.2357065\tbest: 0.2357065 (100)\ttotal: 448ms\tremaining: 3.99s\n",
      "150:\tlearn: 0.1974485\ttest: 0.2270652\tbest: 0.2270652 (150)\ttotal: 737ms\tremaining: 4.14s\n",
      "200:\tlearn: 0.1799145\ttest: 0.2238258\tbest: 0.2237738 (193)\ttotal: 989ms\tremaining: 3.93s\n",
      "250:\tlearn: 0.1653744\ttest: 0.2213831\tbest: 0.2213831 (250)\ttotal: 1.27s\tremaining: 3.78s\n",
      "300:\tlearn: 0.1550429\ttest: 0.2192798\tbest: 0.2192798 (300)\ttotal: 1.52s\tremaining: 3.54s\n",
      "350:\tlearn: 0.1442759\ttest: 0.2180592\tbest: 0.2179435 (329)\ttotal: 1.77s\tremaining: 3.28s\n",
      "400:\tlearn: 0.1334529\ttest: 0.2172477\tbest: 0.2170846 (398)\ttotal: 2.06s\tremaining: 3.08s\n",
      "450:\tlearn: 0.1243455\ttest: 0.2168805\tbest: 0.2168076 (404)\ttotal: 2.31s\tremaining: 2.81s\n",
      "500:\tlearn: 0.1146355\ttest: 0.2160252\tbest: 0.2156610 (489)\ttotal: 2.55s\tremaining: 2.54s\n",
      "550:\tlearn: 0.1074202\ttest: 0.2153821\tbest: 0.2150857 (542)\ttotal: 2.78s\tremaining: 2.26s\n",
      "600:\tlearn: 0.0996841\ttest: 0.2147571\tbest: 0.2143312 (583)\ttotal: 3.05s\tremaining: 2.02s\n",
      "650:\tlearn: 0.0928914\ttest: 0.2148520\tbest: 0.2143312 (583)\ttotal: 3.3s\tremaining: 1.77s\n",
      "700:\tlearn: 0.0856131\ttest: 0.2142243\tbest: 0.2138051 (682)\ttotal: 3.56s\tremaining: 1.52s\n",
      "750:\tlearn: 0.0799133\ttest: 0.2146448\tbest: 0.2138051 (682)\ttotal: 3.81s\tremaining: 1.26s\n",
      "800:\tlearn: 0.0745043\ttest: 0.2152601\tbest: 0.2138051 (682)\ttotal: 4.06s\tremaining: 1.01s\n",
      "850:\tlearn: 0.0698879\ttest: 0.2143368\tbest: 0.2138051 (682)\ttotal: 4.3s\tremaining: 754ms\n",
      "900:\tlearn: 0.0659032\ttest: 0.2144485\tbest: 0.2138051 (682)\ttotal: 4.52s\tremaining: 496ms\n",
      "950:\tlearn: 0.0622712\ttest: 0.2138429\tbest: 0.2134171 (937)\ttotal: 4.73s\tremaining: 244ms\n",
      "999:\tlearn: 0.0590860\ttest: 0.2134107\tbest: 0.2127959 (975)\ttotal: 4.96s\tremaining: 0us\n",
      "\n",
      "bestTest = 0.2127959145\n",
      "bestIteration = 975\n",
      "\n",
      "Shrink model to first 976 iterations.\n"
     ]
    },
    {
     "data": {
      "text/plain": [
       "<catboost.core.CatBoostClassifier at 0x12b6bd160>"
      ]
     },
     "execution_count": 51,
     "metadata": {},
     "output_type": "execute_result"
    }
   ],
   "source": [
    "# Specify index of categorical features in input data\n",
    "cat_features = [x.columns.get_loc(col) for col in cat_cols if col in x.columns]\n",
    "\n",
    "# Model parameter dict\n",
    "params = {'iterations':1000,\n",
    "          'loss_function':'Logloss',\n",
    "          'depth':6,\n",
    "          'custom_loss':['AUC', 'Recall']}\n",
    "\n",
    "# Instantiate model\n",
    "model = CatBoostClassifier(**params)\n",
    "\n",
    "# Fit model\n",
    "model.fit(\n",
    "    x_train.replace(np.nan,'none'),\n",
    "    y_train,\n",
    "    cat_features=cat_features,\n",
    "    eval_set=(x_test.replace(np.nan,'none'), y_test),\n",
    "    verbose=50,\n",
    "    plot=True\n",
    ")"
   ]
  },
  {
   "cell_type": "code",
   "execution_count": 57,
   "id": "160b0675",
   "metadata": {},
   "outputs": [],
   "source": [
    "pred_probs_train = model.predict_proba(x_train)[:,1]\n",
    "pred_probs = model.predict_proba(x_test)[:,1]"
   ]
  },
  {
   "cell_type": "code",
   "execution_count": 54,
   "id": "39d7c190",
   "metadata": {},
   "outputs": [
    {
     "name": "stdout",
     "output_type": "stream",
     "text": [
      "[[224  44]\n",
      " [ 23 435]]\n",
      "              precision    recall  f1-score   support\n",
      "\n",
      "           0       0.91      0.84      0.87       268\n",
      "           1       0.91      0.95      0.93       458\n",
      "\n",
      "    accuracy                           0.91       726\n",
      "   macro avg       0.91      0.89      0.90       726\n",
      "weighted avg       0.91      0.91      0.91       726\n",
      "\n",
      "0.961643746333833\n",
      "0.8065241478198527\n"
     ]
    }
   ],
   "source": [
    "# Evaluate predictions on the test set\n",
    "preds = model.predict(x_test)\n",
    "\n",
    "print(confusion_matrix(y_test, preds))\n",
    "print(classification_report(y_test, preds))\n",
    "print(roc_auc_score(y_test, pred_probs))\n",
    "print(ks_2samp(pred_probs[y_test==1], pred_probs[y_test!=1]).statistic)"
   ]
  },
  {
   "cell_type": "code",
   "execution_count": 58,
   "id": "8b792505",
   "metadata": {},
   "outputs": [
    {
     "name": "stderr",
     "output_type": "stream",
     "text": [
      "/Users/HarrisonHoffman/Desktop/DataScience/envs/baseprojects/lib/python3.9/site-packages/seaborn/distributions.py:2619: FutureWarning: `distplot` is a deprecated function and will be removed in a future version. Please adapt your code to use either `displot` (a figure-level function with similar flexibility) or `histplot` (an axes-level function for histograms).\n",
      "  warnings.warn(msg, FutureWarning)\n",
      "/Users/HarrisonHoffman/Desktop/DataScience/envs/baseprojects/lib/python3.9/site-packages/seaborn/distributions.py:2619: FutureWarning: `distplot` is a deprecated function and will be removed in a future version. Please adapt your code to use either `displot` (a figure-level function with similar flexibility) or `histplot` (an axes-level function for histograms).\n",
      "  warnings.warn(msg, FutureWarning)\n"
     ]
    },
    {
     "data": {
      "text/plain": [
       "<matplotlib.legend.Legend at 0x12daee5e0>"
      ]
     },
     "execution_count": 58,
     "metadata": {},
     "output_type": "execute_result"
    },
    {
     "data": {
      "image/png": "[encoded data removed]",
      "text/plain": [
       "<Figure size 720x432 with 1 Axes>"
      ]
     },
     "metadata": {
      "needs_background": "light"
     },
     "output_type": "display_data"
    }
   ],
   "source": [
    "fig,ax = plt.subplots(figsize=(10,6))\n",
    "sns.distplot(pred_probs[y_test==1], label='Readmitted')\n",
    "sns.distplot(pred_probs[y_test==0], label='Not Readmitted')\n",
    "ax.set_xlabel(\"Predicted Probability of Readmission\")\n",
    "ax.legend()"
   ]
  },
  {
   "cell_type": "code",
   "execution_count": 78,
   "id": "5f39578c",
   "metadata": {},
   "outputs": [],
   "source": [
    "# Create catboost pool object\n",
    "test_pool = Pool(x_test, y_test, cat_features=cat_features)"
   ]
  },
  {
   "cell_type": "code",
   "execution_count": 76,
   "id": "813e15d4",
   "metadata": {},
   "outputs": [
    {
     "data": {
      "text/html": [
       "<div>\n",
       "<style scoped>\n",
       "    .dataframe tbody tr th:only-of-type {\n",
       "        vertical-align: middle;\n",
       "    }\n",
       "\n",
       "    .dataframe tbody tr th {\n",
       "        vertical-align: top;\n",
       "    }\n",
       "\n",
       "    .dataframe thead th {\n",
       "        text-align: right;\n",
       "    }\n",
       "</style>\n",
       "<table border=\"1\" class=\"dataframe\">\n",
       "  <thead>\n",
       "    <tr style=\"text-align: right;\">\n",
       "      <th></th>\n",
       "      <th>Feature</th>\n",
       "      <th>Importance</th>\n",
       "    </tr>\n",
       "  </thead>\n",
       "  <tbody>\n",
       "    <tr>\n",
       "      <th>30</th>\n",
       "      <td>Curricular units 2nd sem (approved)</td>\n",
       "      <td>0.069613</td>\n",
       "    </tr>\n",
       "    <tr>\n",
       "      <th>16</th>\n",
       "      <td>Tuition fees up to date</td>\n",
       "      <td>0.021129</td>\n",
       "    </tr>\n",
       "    <tr>\n",
       "      <th>22</th>\n",
       "      <td>Curricular units 1st sem (enrolled)</td>\n",
       "      <td>0.013016</td>\n",
       "    </tr>\n",
       "    <tr>\n",
       "      <th>24</th>\n",
       "      <td>Curricular units 1st sem (approved)</td>\n",
       "      <td>0.012623</td>\n",
       "    </tr>\n",
       "    <tr>\n",
       "      <th>28</th>\n",
       "      <td>Curricular units 2nd sem (enrolled)</td>\n",
       "      <td>0.007911</td>\n",
       "    </tr>\n",
       "    <tr>\n",
       "      <th>18</th>\n",
       "      <td>Scholarship holder</td>\n",
       "      <td>0.007182</td>\n",
       "    </tr>\n",
       "    <tr>\n",
       "      <th>35</th>\n",
       "      <td>GDP</td>\n",
       "      <td>0.005512</td>\n",
       "    </tr>\n",
       "    <tr>\n",
       "      <th>3</th>\n",
       "      <td>Course</td>\n",
       "      <td>0.005323</td>\n",
       "    </tr>\n",
       "    <tr>\n",
       "      <th>15</th>\n",
       "      <td>Debtor</td>\n",
       "      <td>0.005065</td>\n",
       "    </tr>\n",
       "    <tr>\n",
       "      <th>19</th>\n",
       "      <td>Age at enrollment</td>\n",
       "      <td>0.003974</td>\n",
       "    </tr>\n",
       "    <tr>\n",
       "      <th>21</th>\n",
       "      <td>Curricular units 1st sem (credited)</td>\n",
       "      <td>0.002638</td>\n",
       "    </tr>\n",
       "    <tr>\n",
       "      <th>33</th>\n",
       "      <td>Unemployment rate</td>\n",
       "      <td>0.001556</td>\n",
       "    </tr>\n",
       "    <tr>\n",
       "      <th>8</th>\n",
       "      <td>Mother's qualification</td>\n",
       "      <td>0.001475</td>\n",
       "    </tr>\n",
       "    <tr>\n",
       "      <th>29</th>\n",
       "      <td>Curricular units 2nd sem (evaluations)</td>\n",
       "      <td>0.001473</td>\n",
       "    </tr>\n",
       "    <tr>\n",
       "      <th>2</th>\n",
       "      <td>Application order</td>\n",
       "      <td>0.001177</td>\n",
       "    </tr>\n",
       "    <tr>\n",
       "      <th>9</th>\n",
       "      <td>Father's qualification</td>\n",
       "      <td>0.001136</td>\n",
       "    </tr>\n",
       "    <tr>\n",
       "      <th>17</th>\n",
       "      <td>Gender</td>\n",
       "      <td>0.000955</td>\n",
       "    </tr>\n",
       "    <tr>\n",
       "      <th>1</th>\n",
       "      <td>Application mode</td>\n",
       "      <td>0.000786</td>\n",
       "    </tr>\n",
       "    <tr>\n",
       "      <th>23</th>\n",
       "      <td>Curricular units 1st sem (evaluations)</td>\n",
       "      <td>0.000765</td>\n",
       "    </tr>\n",
       "    <tr>\n",
       "      <th>27</th>\n",
       "      <td>Curricular units 2nd sem (credited)</td>\n",
       "      <td>0.000708</td>\n",
       "    </tr>\n",
       "    <tr>\n",
       "      <th>12</th>\n",
       "      <td>Admission grade</td>\n",
       "      <td>0.000575</td>\n",
       "    </tr>\n",
       "    <tr>\n",
       "      <th>26</th>\n",
       "      <td>Curricular units 1st sem (without evaluations)</td>\n",
       "      <td>0.000210</td>\n",
       "    </tr>\n",
       "    <tr>\n",
       "      <th>10</th>\n",
       "      <td>Mother's occupation</td>\n",
       "      <td>0.000199</td>\n",
       "    </tr>\n",
       "    <tr>\n",
       "      <th>31</th>\n",
       "      <td>Curricular units 2nd sem (grade)</td>\n",
       "      <td>0.000190</td>\n",
       "    </tr>\n",
       "    <tr>\n",
       "      <th>0</th>\n",
       "      <td>Marital status</td>\n",
       "      <td>0.000175</td>\n",
       "    </tr>\n",
       "    <tr>\n",
       "      <th>11</th>\n",
       "      <td>Father's occupation</td>\n",
       "      <td>0.000141</td>\n",
       "    </tr>\n",
       "    <tr>\n",
       "      <th>20</th>\n",
       "      <td>International</td>\n",
       "      <td>0.000000</td>\n",
       "    </tr>\n",
       "    <tr>\n",
       "      <th>4</th>\n",
       "      <td>Daytime/evening attendance</td>\n",
       "      <td>-0.000088</td>\n",
       "    </tr>\n",
       "    <tr>\n",
       "      <th>32</th>\n",
       "      <td>Curricular units 2nd sem (without evaluations)</td>\n",
       "      <td>-0.000148</td>\n",
       "    </tr>\n",
       "    <tr>\n",
       "      <th>7</th>\n",
       "      <td>Nacionality</td>\n",
       "      <td>-0.000206</td>\n",
       "    </tr>\n",
       "    <tr>\n",
       "      <th>14</th>\n",
       "      <td>Educational special needs</td>\n",
       "      <td>-0.000221</td>\n",
       "    </tr>\n",
       "    <tr>\n",
       "      <th>5</th>\n",
       "      <td>Previous qualification</td>\n",
       "      <td>-0.000301</td>\n",
       "    </tr>\n",
       "    <tr>\n",
       "      <th>34</th>\n",
       "      <td>Inflation rate</td>\n",
       "      <td>-0.000322</td>\n",
       "    </tr>\n",
       "    <tr>\n",
       "      <th>13</th>\n",
       "      <td>Displaced</td>\n",
       "      <td>-0.000804</td>\n",
       "    </tr>\n",
       "    <tr>\n",
       "      <th>25</th>\n",
       "      <td>Curricular units 1st sem (grade)</td>\n",
       "      <td>-0.000895</td>\n",
       "    </tr>\n",
       "    <tr>\n",
       "      <th>36</th>\n",
       "      <td>rv</td>\n",
       "      <td>-0.003036</td>\n",
       "    </tr>\n",
       "    <tr>\n",
       "      <th>6</th>\n",
       "      <td>Previous qualification (grade)</td>\n",
       "      <td>-0.004267</td>\n",
       "    </tr>\n",
       "  </tbody>\n",
       "</table>\n",
       "</div>"
      ],
      "text/plain": [
       "                                           Feature  Importance\n",
       "30             Curricular units 2nd sem (approved)    0.069613\n",
       "16                         Tuition fees up to date    0.021129\n",
       "22             Curricular units 1st sem (enrolled)    0.013016\n",
       "24             Curricular units 1st sem (approved)    0.012623\n",
       "28             Curricular units 2nd sem (enrolled)    0.007911\n",
       "18                              Scholarship holder    0.007182\n",
       "35                                             GDP    0.005512\n",
       "3                                           Course    0.005323\n",
       "15                                          Debtor    0.005065\n",
       "19                               Age at enrollment    0.003974\n",
       "21             Curricular units 1st sem (credited)    0.002638\n",
       "33                               Unemployment rate    0.001556\n",
       "8                           Mother's qualification    0.001475\n",
       "29          Curricular units 2nd sem (evaluations)    0.001473\n",
       "2                                Application order    0.001177\n",
       "9                           Father's qualification    0.001136\n",
       "17                                          Gender    0.000955\n",
       "1                                 Application mode    0.000786\n",
       "23          Curricular units 1st sem (evaluations)    0.000765\n",
       "27             Curricular units 2nd sem (credited)    0.000708\n",
       "12                                 Admission grade    0.000575\n",
       "26  Curricular units 1st sem (without evaluations)    0.000210\n",
       "10                             Mother's occupation    0.000199\n",
       "31                Curricular units 2nd sem (grade)    0.000190\n",
       "0                                   Marital status    0.000175\n",
       "11                             Father's occupation    0.000141\n",
       "20                                   International    0.000000\n",
       "4                       Daytime/evening attendance   -0.000088\n",
       "32  Curricular units 2nd sem (without evaluations)   -0.000148\n",
       "7                                      Nacionality   -0.000206\n",
       "14                       Educational special needs   -0.000221\n",
       "5                           Previous qualification   -0.000301\n",
       "34                                  Inflation rate   -0.000322\n",
       "13                                       Displaced   -0.000804\n",
       "25                Curricular units 1st sem (grade)   -0.000895\n",
       "36                                              rv   -0.003036\n",
       "6                   Previous qualification (grade)   -0.004267"
      ]
     },
     "execution_count": 76,
     "metadata": {},
     "output_type": "execute_result"
    }
   ],
   "source": [
    "# Evaluate feature importance\n",
    "feature_importances = model.get_feature_importance(data=test_pool, type='LossFunctionChange')\n",
    "\n",
    "feat_imp_df = pd.DataFrame({'Feature':model.feature_names_, 'Importance':feature_importances})\n",
    "feat_imp_df.sort_values(\"Importance\", ascending=False, inplace=True)\n",
    "feat_imp_df"
   ]
  },
  {
   "cell_type": "code",
   "execution_count": 77,
   "id": "14c4abdb",
   "metadata": {},
   "outputs": [
    {
     "data": {
      "text/plain": [
       "<AxesSubplot:xlabel='Importance', ylabel='Feature'>"
      ]
     },
     "execution_count": 77,
     "metadata": {},
     "output_type": "execute_result"
    },
    {
     "data": {
      "image/png": "[encoded data removed]",
      "text/plain": [
       "<Figure size 720x720 with 1 Axes>"
      ]
     },
     "metadata": {
      "needs_background": "light"
     },
     "output_type": "display_data"
    }
   ],
   "source": [
    "fig,ax = plt.subplots(figsize=(10,10))\n",
    "sns.barplot(x=feat_imp_df['Importance'], y=feat_imp_df['Feature'])"
   ]
  },
  {
   "cell_type": "code",
   "execution_count": null,
   "id": "9567574a",
   "metadata": {},
   "outputs": [],
   "source": []
  }
 ],
 "metadata": {
  "kernelspec": {
   "display_name": "baseprojects",
   "language": "python",
   "name": "baseprojects"
  },
  "language_info": {
   "codemirror_mode": {
    "name": "ipython",
    "version": 3
   },
   "file_extension": ".py",
   "mimetype": "text/x-python",
   "name": "python",
   "nbconvert_exporter": "python",
   "pygments_lexer": "ipython3",
   "version": "3.9.9"
  }
 },
 "nbformat": 4,
 "nbformat_minor": 5
}
