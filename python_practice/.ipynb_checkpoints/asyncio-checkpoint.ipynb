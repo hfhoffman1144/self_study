{
 "cells": [
  {
   "cell_type": "markdown",
   "id": "cb0b308e",
   "metadata": {},
   "source": [
    "# An overview of asyncio\n",
    "source: https://realpython.com/async-io-python/"
   ]
  },
  {
   "cell_type": "markdown",
   "id": "37c745c6",
   "metadata": {},
   "source": [
    "### The 10,000-Foot View of Async IO\n",
    "\n",
    "#### Parallelism: \n",
    "- performing multiple operations at the same time. Multiprocessing is a means to effect parallelism, and it entails spreading tasks over a computer’s central processing units (CPUs, or cores). Multiprocessing is well-suited for CPU-bound tasks: tightly bound for loops and mathematical computations usually fall into this category.\n",
    "\n",
    "- Async IO is NOT parallelism \n",
    "\n",
    "#### Concurrency\n",
    "- multiple tasks have the ability to run in an overlapping manner. (There’s a saying that concurrency does not imply parallelism.)\n",
    "\n",
    "#### Threading\n",
    "- Threading is a concurrent execution model whereby multiple threads take turns executing tasks. \n",
    "- What’s important to know about threading is that it’s better for IO-bound tasks. While a CPU-bound task is characterized by the computer’s cores continually working hard from start to finish, an IO-bound job is dominated by a lot of waiting on input/output to complete.\n",
    "\n",
    "To recap the above, concurrency encompasses both multiprocessing (ideal for CPU-bound tasks) and threading (suited for IO-bound tasks). Multiprocessing is a form of parallelism, with parallelism being a specific type (subset) of concurrency. The Python standard library has offered longstanding support for both of these through its multiprocessing, threading, and concurrent.futures packages.\n",
    "\n",
    "\n",
    "- async IO is not threading, nor is it multiprocessing.\n",
    "- Asynchronous routines are able to “pause” while waiting on their ultimate result and let other routines run in the meantime.\n",
    "- Asynchronous code, through the mechanism above, facilitates concurrent execution. To put it differently, asynchronous code gives the look and feel of concurrency.\n",
    "\n",
    "#### Intuitive async IO explanation\n",
    "Imagine a chess player who is playing multiple opponents\n",
    "\n",
    "- Synchronous version: Judit plays one game at a time, never two at the same time, until the game is complete. Each game takes (55 + 5) * 30 == 1800 seconds, or 30 minutes. The entire exhibition takes 24 * 30 == 720 minutes, or 12 hours.\n",
    "\n",
    "- Asynchronous version: Judit moves from table to table, making one move at each table. She leaves the table and lets the opponent make their next move during the wait time. One move on all 24 games takes Judit 24 * 5 == 120 seconds, or 2 minutes. The entire exhibition is now cut down to 120 * 30 == 3600 seconds, or just 1 hour. (Source)\n",
    "\n",
    "So, cooperative multitasking is a fancy way of saying that a program’s event loop (more on that later) communicates with multiple tasks to let each take turns running at the optimal time.\n",
    "\n",
    "Async IO takes long waiting periods in which functions would otherwise be blocking and allows other functions to run during that downtime. (A function that blocks effectively forbids others from running from the time that it starts until the time that it returns.)\n",
    "\n",
    "\n",
    "### The async/await Syntax and Native Coroutines\n",
    "\n",
    "- a coroutine is a function that can suspend its execution before reaching return, and it can indirectly pass control to another coroutine for some time."
   ]
  },
  {
   "cell_type": "code",
   "execution_count": 1,
   "id": "5d13654e",
   "metadata": {},
   "outputs": [
    {
     "name": "stdout",
     "output_type": "stream",
     "text": [
      "One\n",
      "One\n",
      "One\n",
      "Two\n",
      "Two\n",
      "Two\n",
      " executed in 1.00 seconds.\n"
     ]
    }
   ],
   "source": [
    "import time\n",
    "import asyncio\n",
    "\n",
    "async def count():\n",
    "    \n",
    "    print('One')\n",
    "    await asyncio.sleep(1)\n",
    "    print('Two')\n",
    "    \n",
    "async def main():\n",
    "    \n",
    "    await asyncio.gather(count(), count(), count())\n",
    "\n",
    "\n",
    "s = time.perf_counter()\n",
    "#asyncio.run(main()) - script version\n",
    "await main() # Jupyter version\n",
    "elapsed = time.perf_counter() - s\n",
    "print(f\" executed in {elapsed:0.2f} seconds.\")"
   ]
  },
  {
   "cell_type": "markdown",
   "id": "b1eab022",
   "metadata": {},
   "source": [
    "Talking to each of the calls to count() is a single event loop, or coordinator. When each task reaches await asyncio.sleep(1), the function yells up to the event loop and gives control back to it, saying, “I’m going to be sleeping for 1 second. Go ahead and let something else meaningful be done in the meantime.”"
   ]
  },
  {
   "cell_type": "markdown",
   "id": "09f9785b",
   "metadata": {},
   "source": [
    "### The Rules of Async IO"
   ]
  },
  {
   "cell_type": "markdown",
   "id": "9017f17b",
   "metadata": {},
   "source": [
    "- The syntax async def introduces either a native coroutine or an asynchronous generator. The expressions async with and async for are also valid, and you’ll see them later on.\n",
    "\n",
    "- The keyword await passes function control back to the event loop. (It suspends the execution of the surrounding coroutine.) If Python encounters an await f() expression in the scope of g(), this is how await tells the event loop, “Suspend execution of g() until whatever I’m waiting on—the result of f()—is returned. In the meantime, go let something else run.”"
   ]
  },
  {
   "cell_type": "code",
   "execution_count": 2,
   "id": "da72279f",
   "metadata": {},
   "outputs": [],
   "source": [
    "async def g():\n",
    "    # Pause here and come back to g() when f() is ready\n",
    "    r = await f()\n",
    "    return r"
   ]
  },
  {
   "cell_type": "markdown",
   "id": "d0a105ad",
   "metadata": {},
   "source": [
    "- Just like it’s a SyntaxError to use yield outside of a def function, it is a SyntaxError to use await outside of an async def coroutine. You can only use await in the body of coroutines."
   ]
  },
  {
   "cell_type": "code",
   "execution_count": 3,
   "id": "37d2a486",
   "metadata": {},
   "outputs": [
    {
     "ename": "SyntaxError",
     "evalue": "'yield from' inside async function (1355037374.py, line 9)",
     "output_type": "error",
     "traceback": [
      "\u001b[0;36m  Input \u001b[0;32mIn [3]\u001b[0;36m\u001b[0m\n\u001b[0;31m    yield from gen(x)  # No - SyntaxError\u001b[0m\n\u001b[0m    ^\u001b[0m\n\u001b[0;31mSyntaxError\u001b[0m\u001b[0;31m:\u001b[0m 'yield from' inside async function\n"
     ]
    }
   ],
   "source": [
    "async def f(x):\n",
    "    y = await z(x)  # OK - `await` and `return` allowed in coroutines\n",
    "    return y\n",
    "\n",
    "async def g(x):\n",
    "    yield x  # OK - this is an async generator\n",
    "\n",
    "async def m(x):\n",
    "    yield from gen(x)  # No - SyntaxError\n",
    "\n",
    "def m(x):\n",
    "    y = await z(x)  # Still no - SyntaxError (no `async def` here)\n",
    "    return y"
   ]
  },
  {
   "cell_type": "markdown",
   "id": "80b14c19",
   "metadata": {},
   "source": [
    "Finally, when you use await f(), it’s required that f() be an object that is awaitable. Well, that’s not very helpful, is it? For now, just know that an awaitable object is either (1) another coroutine or (2) an object defining an .__await__() dunder method that returns an iterator. If you’re writing a program, for the large majority of purposes, you should only need to worry about case #1."
   ]
  },
  {
   "cell_type": "markdown",
   "id": "3965611c",
   "metadata": {},
   "source": [
    "Here’s one example of how async IO cuts down on wait time: given a coroutine makerandom() that keeps producing random integers in the range [0, 10], until one of them exceeds a threshold, you want to let multiple calls of this coroutine not need to wait for each other to complete in succession. You can largely follow the patterns from the two scripts above, with slight changes:"
   ]
  },
  {
   "cell_type": "code",
   "execution_count": 4,
   "id": "4c9ad5c1",
   "metadata": {},
   "outputs": [
    {
     "name": "stdout",
     "output_type": "stream",
     "text": [
      "\u001b[36mInitiated makerandom(0).\n",
      "\u001b[36mmakerandom(0) == 4 too low; retrying.\n",
      "\u001b[91mInitiated makerandom(1).\n",
      "\u001b[91mmakerandom(1) == 4 too low; retrying.\n",
      "\u001b[35mInitiated makerandom(2).\n",
      "\u001b[35mmakerandom(2) == 0 too low; retrying.\n",
      "\u001b[36mmakerandom(0) == 4 too low; retrying.\n",
      "\u001b[91mmakerandom(1) == 7 too low; retrying.\n",
      "\u001b[36mmakerandom(0) == 4 too low; retrying.\n",
      "\u001b[35mmakerandom(2) == 4 too low; retrying.\n",
      "\u001b[36mmakerandom(0) == 8 too low; retrying.\n",
      "\u001b[91m---> Finished: makerandom(1) == 10\u001b[0m\n",
      "\u001b[36mmakerandom(0) == 7 too low; retrying.\n",
      "\u001b[36mmakerandom(0) == 8 too low; retrying.\n",
      "\u001b[35mmakerandom(2) == 4 too low; retrying.\n",
      "\u001b[36mmakerandom(0) == 7 too low; retrying.\n",
      "\u001b[36mmakerandom(0) == 1 too low; retrying.\n",
      "\u001b[36mmakerandom(0) == 6 too low; retrying.\n",
      "\u001b[35m---> Finished: makerandom(2) == 9\u001b[0m\n",
      "\u001b[36mmakerandom(0) == 3 too low; retrying.\n",
      "\u001b[36mmakerandom(0) == 9 too low; retrying.\n",
      "\u001b[36mmakerandom(0) == 7 too low; retrying.\n",
      "\u001b[36m---> Finished: makerandom(0) == 10\u001b[0m\n",
      "\n",
      "r1: 10, r2: 10, r3: 9\n"
     ]
    }
   ],
   "source": [
    "import asyncio\n",
    "import random\n",
    "\n",
    "# ANSI colors\n",
    "c = (\n",
    "    \"\\033[0m\",   # End of color\n",
    "    \"\\033[36m\",  # Cyan\n",
    "    \"\\033[91m\",  # Red\n",
    "    \"\\033[35m\",  # Magenta\n",
    ")\n",
    "\n",
    "async def makerandom(idx: int, threshold: int = 6) -> int:\n",
    "    print(c[idx + 1] + f\"Initiated makerandom({idx}).\")\n",
    "    i = random.randint(0, 10)\n",
    "    while i <= threshold:\n",
    "        print(c[idx + 1] + f\"makerandom({idx}) == {i} too low; retrying.\")\n",
    "        await asyncio.sleep(idx + 1)\n",
    "        i = random.randint(0, 10)\n",
    "    print(c[idx + 1] + f\"---> Finished: makerandom({idx}) == {i}\" + c[0])\n",
    "    return i\n",
    "\n",
    "async def main():\n",
    "    res = await asyncio.gather(*(makerandom(i, 10 - i - 1) for i in range(3)))\n",
    "    return res\n",
    "\n",
    "\n",
    "random.seed(444)\n",
    "#r1, r2, r3 = asyncio.run(main())\n",
    "r1, r2, r3 = await main()\n",
    "print()\n",
    "print(f\"r1: {r1}, r2: {r2}, r3: {r3}\")"
   ]
  },
  {
   "cell_type": "markdown",
   "id": "fe855481",
   "metadata": {},
   "source": [
    "While “making random integers” (which is CPU-bound more than anything) is maybe not the greatest choice as a candidate for asyncio, it’s the presence of asyncio.sleep() in the example that is designed to mimic an IO-bound process where there is uncertain wait time involved. For example, the asyncio.sleep() call might represent sending and receiving not-so-random integers between two clients in a message application."
   ]
  },
  {
   "cell_type": "markdown",
   "id": "c37ff829",
   "metadata": {},
   "source": [
    "### Async IO Design Patterns"
   ]
  },
  {
   "cell_type": "markdown",
   "id": "7a4220e6",
   "metadata": {},
   "source": [
    "#### Chaining Coroutines"
   ]
  },
  {
   "cell_type": "markdown",
   "id": "cbb6fcc9",
   "metadata": {},
   "source": [
    "Pay careful attention to the output, where part1() sleeps for a variable amount of time, and part2() begins working with the results as they become available:"
   ]
  },
  {
   "cell_type": "code",
   "execution_count": 10,
   "id": "9200adb1",
   "metadata": {},
   "outputs": [
    {
     "name": "stdout",
     "output_type": "stream",
     "text": [
      "part1(1) sleeping for 4 seconds.\n",
      "part1(2) sleeping for 4 seconds.\n",
      "part1(3) sleeping for 0 seconds.\n",
      "Returning part1(3) == result3-1.\n",
      "part2(3, 'result3-1') sleeping for 4 seconds.\n",
      "Returning part1(1) == result1-1.\n",
      "part2(1, 'result1-1') sleeping for 7 seconds.\n",
      "Returning part1(2) == result2-1.\n",
      "part2(2, 'result2-1') sleeping for 4 seconds.\n",
      "Returning part2(3, 'result3-1') == result3-2 derived from result3-1.\n",
      "-->Chained result3 => result3-2 derived from result3-1 (took 4.00 seconds).\n",
      "Returning part2(2, 'result2-1') == result2-2 derived from result2-1.\n",
      "-->Chained result2 => result2-2 derived from result2-1 (took 8.00 seconds).\n",
      "Returning part2(1, 'result1-1') == result1-2 derived from result1-1.\n",
      "-->Chained result1 => result1-2 derived from result1-1 (took 11.01 seconds).\n",
      "Program finished in 11.01 seconds.\n"
     ]
    }
   ],
   "source": [
    "import asyncio\n",
    "import random\n",
    "import time\n",
    "\n",
    "async def part1(n: int) -> str:\n",
    "    \n",
    "    i = random.randint(0, 10)\n",
    "    print(f\"part1({n}) sleeping for {i} seconds.\")\n",
    "    await asyncio.sleep(i)\n",
    "    result = f\"result{n}-1\"\n",
    "    print(f\"Returning part1({n}) == {result}.\")\n",
    "    return result\n",
    "\n",
    "async def part2(n: int, arg: str) -> str:\n",
    "    \n",
    "    i = random.randint(0, 10)\n",
    "    print(f\"part2{n, arg} sleeping for {i} seconds.\")\n",
    "    await asyncio.sleep(i)\n",
    "    result = f\"result{n}-2 derived from {arg}\"\n",
    "    print(f\"Returning part2{n, arg} == {result}.\")\n",
    "    return result\n",
    "\n",
    "async def chain(n: int) -> None:\n",
    "    \n",
    "    start = time.perf_counter()\n",
    "    p1 = await part1(n)\n",
    "    p2 = await part2(n, p1)\n",
    "    end = time.perf_counter() - start\n",
    "    print(f\"-->Chained result{n} => {p2} (took {end:0.2f} seconds).\")\n",
    "\n",
    "async def main(*args):\n",
    "    \n",
    "    await asyncio.gather(*(chain(n) for n in args))\n",
    "\n",
    "\n",
    "import sys\n",
    "random.seed(444)\n",
    "args = [1, 2, 3]\n",
    "start = time.perf_counter()\n",
    "#asyncio.run(main(*args))\n",
    "await main(*args)\n",
    "end = time.perf_counter() - start\n",
    "print(f\"Program finished in {end:0.2f} seconds.\")"
   ]
  },
  {
   "cell_type": "markdown",
   "id": "e328c43b",
   "metadata": {},
   "source": [
    "#### Using a Queue"
   ]
  },
  {
   "cell_type": "markdown",
   "id": "6b5e6550",
   "metadata": {},
   "source": [
    "There is an alternative structure that can also work with async IO: a number of producers, which are not associated with each other, add items to a queue. Each producer may add multiple items to the queue at staggered, random, unannounced times. A group of consumers pull items from the queue as they show up, greedily and without waiting for any other signal.\n",
    "\n",
    "In this design, there is no chaining of any individual consumer to a producer. The consumers don’t know the number of producers, or even the cumulative number of items that will be added to the queue, in advance.\n",
    "\n",
    "It takes an individual producer or consumer a variable amount of time to put and extract items from the queue, respectively. The queue serves as a throughput that can communicate with the producers and consumers without them talking to each other directly.\n",
    "\n",
    "Note: While queues are often used in threaded programs because of the thread-safety of queue.Queue(), you shouldn’t need to concern yourself with thread safety when it comes to async IO. (The exception is when you’re combining the two, but that isn’t done in this tutorial.)\n",
    "\n",
    "One use-case for queues (as is the case here) is for the queue to act as a transmitter for producers and consumers that aren’t otherwise directly chained or associated with each other."
   ]
  },
  {
   "cell_type": "code",
   "execution_count": 13,
   "id": "fae60fdd",
   "metadata": {},
   "outputs": [
    {
     "name": "stdout",
     "output_type": "stream",
     "text": [
      "Producer 0 sleeping for 4 seconds.\n",
      "Producer 2 sleeping for 7 seconds.\n",
      "Producer 3 sleeping for 4 seconds.\n",
      "Producer 4 sleeping for 10 seconds.\n",
      "Consumer 0 sleeping for 7 seconds.\n",
      "Consumer 1 sleeping for 8 seconds.\n",
      "Consumer 2 sleeping for 4 seconds.\n",
      "Consumer 3 sleeping for 7 seconds.\n",
      "Consumer 4 sleeping for 1 seconds.\n",
      "Consumer 5 sleeping for 6 seconds.\n",
      "Consumer 6 sleeping for 9 seconds.\n",
      "Consumer 7 sleeping for 3 seconds.\n",
      "Consumer 8 sleeping for 9 seconds.\n",
      "Consumer 9 sleeping for 7 seconds.\n",
      "Producer 0 added <ff1e73ad31> to queue.\n",
      "Producer 0 sleeping for 10 seconds.\n",
      "Producer 3 added <2a2a128332> to queue.\n",
      "Producer 3 sleeping for 0 seconds.\n",
      "Consumer 2 got element <ff1e73ad31> in 0.00057 seconds.\n",
      "Consumer 2 sleeping for 1 seconds.\n",
      "Consumer 4 got element <2a2a128332> in 0.00074 seconds.\n",
      "Consumer 4 sleeping for 0 seconds.\n",
      "Producer 3 added <e19d97dc32> to queue.\n",
      "Producer 3 sleeping for 1 seconds.\n",
      "Consumer 4 got element <e19d97dc32> in 0.00277 seconds.\n",
      "Consumer 4 sleeping for 9 seconds.\n",
      "Producer 3 added <7c04226a45> to queue.\n",
      "Producer 3 sleeping for 0 seconds.\n",
      "Consumer 7 got element <7c04226a45> in 0.00079 seconds.\n",
      "Consumer 7 sleeping for 5 seconds.\n",
      "Producer 3 added <2fd6d5a70e> to queue.\n",
      "Consumer 2 got element <2fd6d5a70e> in 0.00247 seconds.\n",
      "Consumer 2 sleeping for 10 seconds.\n",
      "Producer 2 added <657cefa1e4> to queue.\n",
      "Producer 2 sleeping for 5 seconds.\n",
      "Consumer 0 got element <657cefa1e4> in 0.00039 seconds.\n",
      "Consumer 0 sleeping for 8 seconds.\n",
      "Producer 4 added <562eb26a99> to queue.\n",
      "Producer 4 sleeping for 2 seconds.\n",
      "Consumer 3 got element <562eb26a99> in 0.00083 seconds.\n",
      "Consumer 3 sleeping for 5 seconds.\n",
      "Producer 2 added <9350bfc062> to queue.\n",
      "Producer 2 sleeping for 5 seconds.\n",
      "Producer 4 added <37f01fa07a> to queue.\n",
      "Producer 4 sleeping for 0 seconds.\n",
      "Consumer 9 got element <9350bfc062> in 0.00098 seconds.\n",
      "Consumer 9 sleeping for 3 seconds.\n",
      "Consumer 5 got element <37f01fa07a> in 0.00074 seconds.\n",
      "Consumer 5 sleeping for 1 seconds.\n",
      "Producer 4 added <f1149fcf8f> to queue.\n",
      "Producer 4 sleeping for 5 seconds.\n",
      "Consumer 1 got element <f1149fcf8f> in 0.00069 seconds.\n",
      "Consumer 1 sleeping for 6 seconds.\n",
      "Producer 0 added <68cfea984c> to queue.\n",
      "Producer 0 sleeping for 10 seconds.\n",
      "Consumer 6 got element <68cfea984c> in 0.00133 seconds.\n",
      "Consumer 6 sleeping for 5 seconds.\n",
      "Producer 2 added <4d916ce2fc> to queue.\n",
      "Producer 2 sleeping for 6 seconds.\n",
      "Consumer 8 got element <4d916ce2fc> in 0.00131 seconds.\n",
      "Consumer 8 sleeping for 4 seconds.\n",
      "Producer 4 added <b094826b87> to queue.\n",
      "Producer 4 sleeping for 10 seconds.\n",
      "Consumer 7 got element <b094826b87> in 0.00150 seconds.\n",
      "Consumer 7 sleeping for 8 seconds.\n",
      "Producer 2 added <388b5cc2bd> to queue.\n",
      "Consumer 5 got element <388b5cc2bd> in 0.00046 seconds.\n",
      "Consumer 5 sleeping for 10 seconds.\n",
      "Producer 0 added <74f2d209e8> to queue.\n",
      "Producer 0 sleeping for 10 seconds.\n",
      "Consumer 4 got element <74f2d209e8> in 0.00083 seconds.\n",
      "Consumer 4 sleeping for 7 seconds.\n",
      "Producer 4 added <ec6e75f8ef> to queue.\n",
      "Producer 4 sleeping for 6 seconds.\n",
      "Consumer 0 got element <ec6e75f8ef> in 0.00088 seconds.\n",
      "Consumer 0 sleeping for 8 seconds.\n",
      "Producer 4 added <abf49053dd> to queue.\n",
      "Producer 4 sleeping for 3 seconds.\n",
      "Consumer 3 got element <abf49053dd> in 0.00219 seconds.\n",
      "Consumer 3 sleeping for 6 seconds.\n",
      "Producer 0 added <e6399dd39b> to queue.\n",
      "Consumer 9 got element <e6399dd39b> in 0.00071 seconds.\n",
      "Consumer 9 sleeping for 9 seconds.\n",
      "Producer 4 added <de35acd4a2> to queue.\n",
      "Producer 4 sleeping for 3 seconds.\n",
      "Consumer 2 got element <de35acd4a2> in 0.00079 seconds.\n",
      "Consumer 2 sleeping for 2 seconds.\n",
      "Producer 4 added <0cf3e89e58> to queue.\n",
      "Consumer 1 got element <0cf3e89e58> in 0.00080 seconds.\n",
      "Consumer 1 sleeping for 10 seconds.\n",
      "Program completed in 39.02335 seconds.\n"
     ]
    }
   ],
   "source": [
    "import asyncio\n",
    "import itertools as it\n",
    "import os\n",
    "import random\n",
    "import time\n",
    "\n",
    "async def makeitem(size: int = 5) -> str:\n",
    "    \n",
    "    return os.urandom(size).hex()\n",
    "\n",
    "async def randsleep(caller=None) -> None:\n",
    "    \n",
    "    i = random.randint(0, 10)\n",
    "    if caller:\n",
    "        print(f\"{caller} sleeping for {i} seconds.\")\n",
    "        \n",
    "    await asyncio.sleep(i)\n",
    "\n",
    "async def produce(name: int, q: asyncio.Queue) -> None:\n",
    "    \n",
    "    n = random.randint(0, 10)\n",
    "    \n",
    "    for _ in it.repeat(None, n):  # Synchronous loop for each single producer\n",
    "        \n",
    "        await randsleep(caller=f\"Producer {name}\")\n",
    "        i = await makeitem()\n",
    "        t = time.perf_counter()\n",
    "        await q.put((i, t))\n",
    "        print(f\"Producer {name} added <{i}> to queue.\")\n",
    "\n",
    "async def consume(name: int, q: asyncio.Queue) -> None:\n",
    "    while True:\n",
    "        await randsleep(caller=f\"Consumer {name}\")\n",
    "        i, t = await q.get()\n",
    "        now = time.perf_counter()\n",
    "        print(f\"Consumer {name} got element <{i}>\"\n",
    "              f\" in {now-t:0.5f} seconds.\")\n",
    "        q.task_done()\n",
    "\n",
    "async def main(nprod: int, ncon: int):\n",
    "    q = asyncio.Queue()\n",
    "    producers = [asyncio.create_task(produce(n, q)) for n in range(nprod)]\n",
    "    consumers = [asyncio.create_task(consume(n, q)) for n in range(ncon)]\n",
    "    await asyncio.gather(*producers)\n",
    "    await q.join()  # Implicitly awaits consumers, too\n",
    "    for c in consumers:\n",
    "        c.cancel()\n",
    "\n",
    "\n",
    "#import argparse\n",
    "random.seed(444)\n",
    "#parser = argparse.ArgumentParser()\n",
    "#parser.add_argument(\"-p\", \"--nprod\", type=int, default=5)\n",
    "#parser.add_argument(\"-c\", \"--ncon\", type=int, default=10)\n",
    "#ns = parser.parse_args()\n",
    "start = time.perf_counter()\n",
    "#asyncio.run(main(**ns.__dict__))\n",
    "await main(5, 10)\n",
    "elapsed = time.perf_counter() - start\n",
    "print(f\"Program completed in {elapsed:0.5f} seconds.\")"
   ]
  },
  {
   "cell_type": "markdown",
   "id": "7e11a92b",
   "metadata": {},
   "source": [
    "The first few coroutines are helper functions that return a random string, a fractional-second performance counter, and a random integer. A producer puts anywhere from 1 to 5 items into the queue. Each item is a tuple of (i, t) where i is a random string and t is the time at which the producer attempts to put the tuple into the queue.\n",
    "\n",
    "When a consumer pulls an item out, it simply calculates the elapsed time that the item sat in the queue using the timestamp that the item was put in with.\n",
    "\n",
    "Keep in mind that asyncio.sleep() is used to mimic some other, more complex coroutine that would eat up time and block all other execution if it were a regular blocking function."
   ]
  },
  {
   "cell_type": "code",
   "execution_count": null,
   "id": "e49c5849",
   "metadata": {},
   "outputs": [],
   "source": []
  }
 ],
 "metadata": {
  "kernelspec": {
   "display_name": "baseprojects",
   "language": "python",
   "name": "baseprojects"
  },
  "language_info": {
   "codemirror_mode": {
    "name": "ipython",
    "version": 3
   },
   "file_extension": ".py",
   "mimetype": "text/x-python",
   "name": "python",
   "nbconvert_exporter": "python",
   "pygments_lexer": "ipython3",
   "version": "3.9.9"
  }
 },
 "nbformat": 4,
 "nbformat_minor": 5
}
