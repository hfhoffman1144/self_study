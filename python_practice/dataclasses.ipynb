{
 "cells": [
  {
   "cell_type": "markdown",
   "id": "fd742657",
   "metadata": {},
   "source": [
    "### Python Dataclasses\n",
    "\n",
    "- References:\n",
    "    - https://towardsdatascience.com/9-reasons-why-you-should-start-using-python-dataclasses-98271adadc66\n",
    "\n",
    "- Dataclasses are classes that are meant to hold data. The motivation behind this module is that we sometimes define classes that only act as data containers and when we do that, we spend a consequent amount of time writing boilerplate code with tons of arguments, an ugly __init__ method and many overridden functions."
   ]
  }
 ],
 "metadata": {
  "kernelspec": {
   "display_name": "baseprojects",
   "language": "python",
   "name": "baseprojects"
  },
  "language_info": {
   "codemirror_mode": {
    "name": "ipython",
    "version": 3
   },
   "file_extension": ".py",
   "mimetype": "text/x-python",
   "name": "python",
   "nbconvert_exporter": "python",
   "pygments_lexer": "ipython3",
   "version": "3.9.9"
  }
 },
 "nbformat": 4,
 "nbformat_minor": 5
}
