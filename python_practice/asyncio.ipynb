{
 "cells": [
  {
   "cell_type": "markdown",
   "id": "7af1b02e",
   "metadata": {},
   "source": [
    "# An overview of asyncio\n",
    "source: https://realpython.com/async-io-python/"
   ]
  },
  {
   "cell_type": "markdown",
   "id": "95ae3e6c",
   "metadata": {},
   "source": [
    "### The 10,000-Foot View of Async IO\n",
    "\n",
    "#### Parallelism: \n",
    "- performing multiple operations at the same time. Multiprocessing is a means to effect parallelism, and it entails spreading tasks over a computer’s central processing units (CPUs, or cores). Multiprocessing is well-suited for CPU-bound tasks: tightly bound for loops and mathematical computations usually fall into this category.\n",
    "\n",
    "- Async IO is NOT parallelism \n",
    "\n",
    "#### Concurrency\n",
    "- multiple tasks have the ability to run in an overlapping manner. (There’s a saying that concurrency does not imply parallelism.)\n",
    "\n",
    "#### Threading\n",
    "- Threading is a concurrent execution model whereby multiple threads take turns executing tasks. \n",
    "- What’s important to know about threading is that it’s better for IO-bound tasks. While a CPU-bound task is characterized by the computer’s cores continually working hard from start to finish, an IO-bound job is dominated by a lot of waiting on input/output to complete.\n",
    "\n",
    "To recap the above, concurrency encompasses both multiprocessing (ideal for CPU-bound tasks) and threading (suited for IO-bound tasks). Multiprocessing is a form of parallelism, with parallelism being a specific type (subset) of concurrency. The Python standard library has offered longstanding support for both of these through its multiprocessing, threading, and concurrent.futures packages.\n",
    "\n",
    "\n",
    "- async IO is not threading, nor is it multiprocessing.\n",
    "- Asynchronous routines are able to “pause” while waiting on their ultimate result and let other routines run in the meantime.\n",
    "- Asynchronous code, through the mechanism above, facilitates concurrent execution. To put it differently, asynchronous code gives the look and feel of concurrency.\n",
    "\n",
    "#### Intuitive async IO explanation\n",
    "Imagine a chess player who is playing multiple opponents\n",
    "\n",
    "- Synchronous version: Judit plays one game at a time, never two at the same time, until the game is complete. Each game takes (55 + 5) * 30 == 1800 seconds, or 30 minutes. The entire exhibition takes 24 * 30 == 720 minutes, or 12 hours.\n",
    "\n",
    "- Asynchronous version: Judit moves from table to table, making one move at each table. She leaves the table and lets the opponent make their next move during the wait time. One move on all 24 games takes Judit 24 * 5 == 120 seconds, or 2 minutes. The entire exhibition is now cut down to 120 * 30 == 3600 seconds, or just 1 hour. (Source)\n",
    "\n",
    "So, cooperative multitasking is a fancy way of saying that a program’s event loop (more on that later) communicates with multiple tasks to let each take turns running at the optimal time.\n",
    "\n",
    "Async IO takes long waiting periods in which functions would otherwise be blocking and allows other functions to run during that downtime. (A function that blocks effectively forbids others from running from the time that it starts until the time that it returns.)\n",
    "\n",
    "\n",
    "### The async/await Syntax and Native Coroutines\n",
    "\n",
    "- a coroutine is a function that can suspend its execution before reaching return, and it can indirectly pass control to another coroutine for some time."
   ]
  },
  {
   "cell_type": "code",
   "execution_count": 4,
   "id": "76bf8853",
   "metadata": {},
   "outputs": [
    {
     "name": "stdout",
     "output_type": "stream",
     "text": [
      "One\n",
      "One\n",
      "One\n",
      "Two\n",
      "Two\n",
      "Two\n",
      " executed in 1.00 seconds.\n"
     ]
    }
   ],
   "source": [
    "import time\n",
    "import asyncio\n",
    "\n",
    "async def count():\n",
    "    \n",
    "    print('One')\n",
    "    await asyncio.sleep(1)\n",
    "    print('Two')\n",
    "    \n",
    "async def main():\n",
    "    \n",
    "    await asyncio.gather(count(), count(), count())\n",
    "\n",
    "\n",
    "s = time.perf_counter()\n",
    "#asyncio.run(main()) - script version\n",
    "await main() # Jupyter version\n",
    "elapsed = time.perf_counter() - s\n",
    "print(f\" executed in {elapsed:0.2f} seconds.\")"
   ]
  },
  {
   "cell_type": "code",
   "execution_count": null,
   "id": "7b725b9b",
   "metadata": {},
   "outputs": [],
   "source": []
  }
 ],
 "metadata": {
  "kernelspec": {
   "display_name": "baseprojects",
   "language": "python",
   "name": "baseprojects"
  },
  "language_info": {
   "codemirror_mode": {
    "name": "ipython",
    "version": 3
   },
   "file_extension": ".py",
   "mimetype": "text/x-python",
   "name": "python",
   "nbconvert_exporter": "python",
   "pygments_lexer": "ipython3",
   "version": "3.9.9"
  }
 },
 "nbformat": 4,
 "nbformat_minor": 5
}
