{
 "cells": [
  {
   "cell_type": "code",
   "execution_count": 1,
   "id": "bccaecf1",
   "metadata": {},
   "outputs": [],
   "source": [
    "import numpy as np\n",
    "import pandas as pd\n",
    "import matplotlib.pyplot as plt\n",
    "%matplotlib inline"
   ]
  },
  {
   "cell_type": "code",
   "execution_count": 11,
   "id": "3ad6b72f",
   "metadata": {},
   "outputs": [
    {
     "data": {
      "text/plain": [
       "array([[1, 0, 1, ..., 1, 0, 1],\n",
       "       [1, 0, 0, ..., 1, 1, 1],\n",
       "       [0, 1, 0, ..., 0, 0, 1],\n",
       "       ...,\n",
       "       [0, 0, 1, ..., 1, 1, 0],\n",
       "       [1, 0, 1, ..., 1, 0, 1],\n",
       "       [1, 1, 0, ..., 1, 1, 0]])"
      ]
     },
     "execution_count": 11,
     "metadata": {},
     "output_type": "execute_result"
    }
   ],
   "source": [
    "# objective function\n",
    "def objective(x):\n",
    "    \n",
    "    return x[0]**2.0 + x[1]**2.0\n",
    "\n",
    "# define range for input\n",
    "bounds = np.array([[-5.0, 5.0], [-5.0, 5.0]])\n",
    "\n",
    "# bits per variable\n",
    "n_bits = 16\n",
    "\n",
    "# define the population size\n",
    "n_pop = 100\n",
    "\n",
    "# mutation rate\n",
    "r_mut = 1.0 / (float(n_bits) * len(bounds))\n",
    "               \n",
    "# initial population of random bitstring\n",
    "pop = np.array([np.random.randint(0, 2, n_bits*len(bounds)).tolist() for _ in range(n_pop)])\n",
    "               \n",
    "pop"
   ]
  },
  {
   "cell_type": "code",
   "execution_count": 18,
   "id": "7dad33cd",
   "metadata": {},
   "outputs": [],
   "source": [
    "# decode bitstring to numbers\n",
    "def decode(bounds, n_bits, bitstring):\n",
    "    decoded = list()\n",
    "    largest = 2**n_bits\n",
    "    for i in range(len(bounds)):\n",
    "        # extract the substring\n",
    "        start, end = i * n_bits, (i * n_bits)+n_bits\n",
    "        substring = bitstring[start:end]\n",
    "        # convert bitstring to a string of chars\n",
    "        chars = ''.join([str(s) for s in substring])\n",
    "        # convert string to integer\n",
    "        integer = int(chars, 2)\n",
    "    \n",
    "        # scale integer to desired range\n",
    "        value = bounds[i][0] + (integer/largest) * (bounds[i][1] - bounds[i][0])\n",
    "        # store\n",
    "        decoded.append(value)\n",
    "    return decoded"
   ]
  },
  {
   "cell_type": "code",
   "execution_count": 20,
   "id": "b5356f7f",
   "metadata": {},
   "outputs": [
    {
     "data": {
      "text/plain": [
       "array([[ 2.00973511,  3.87649536],\n",
       "       [ 0.21087646, -0.80215454],\n",
       "       [-2.059021  ,  3.26065063],\n",
       "       [-3.87023926,  0.06484985],\n",
       "       [-3.83758545, -3.81759644],\n",
       "       [-1.44989014,  2.36236572],\n",
       "       [-1.95281982, -4.10980225],\n",
       "       [-1.04324341,  4.71420288],\n",
       "       [ 4.92492676, -0.62973022],\n",
       "       [-2.02941895, -3.80828857]])"
      ]
     },
     "execution_count": 20,
     "metadata": {},
     "output_type": "execute_result"
    }
   ],
   "source": [
    "# decode population\n",
    "decoded = np.array([decode(bounds, n_bits, p) for p in pop])\n",
    "# evaluate all candidates in the population\n",
    "scores = np.array([objective(d) for d in decoded])\n",
    "\n",
    "decoded[:10,:]"
   ]
  },
  {
   "cell_type": "code",
   "execution_count": 21,
   "id": "625b2102",
   "metadata": {},
   "outputs": [
    {
     "name": "stdout",
     "output_type": "stream",
     "text": [
      ">0, new best f([0.585174560546875, 0.2911376953125]) = 0.427190\n",
      ">0, new best f([-0.297088623046875, -0.193939208984375]) = 0.125874\n",
      ">2, new best f([-0.123291015625, -0.059356689453125]) = 0.018724\n",
      ">3, new best f([-0.123291015625, -0.0592041015625]) = 0.018706\n",
      ">3, new best f([-0.09002685546875, -0.059356689453125]) = 0.011628\n",
      ">6, new best f([0.0238037109375, -0.0592041015625]) = 0.004072\n",
      ">6, new best f([0.0238037109375, -0.05889892578125]) = 0.004036\n",
      ">7, new best f([0.020751953125, -0.009307861328125]) = 0.000517\n",
      ">8, new best f([0.020751953125, -0.006866455078125]) = 0.000478\n",
      ">9, new best f([0.020751953125, -0.005950927734375]) = 0.000466\n",
      ">11, new best f([0.01953125, -0.000457763671875]) = 0.000382\n",
      ">13, new best f([-0.0091552734375, -0.005035400390625]) = 0.000109\n",
      ">13, new best f([0.008544921875, -0.00213623046875]) = 0.000078\n",
      ">14, new best f([0.00732421875, -0.00213623046875]) = 0.000058\n",
      ">15, new best f([0.005950927734375, -0.000457763671875]) = 0.000036\n",
      ">16, new best f([-0.004730224609375, -0.001983642578125]) = 0.000026\n",
      ">16, new best f([-0.0006103515625, -0.00244140625]) = 0.000006\n",
      ">17, new best f([0.001068115234375, -0.001983642578125]) = 0.000005\n",
      ">19, new best f([0.0006103515625, -0.00213623046875]) = 0.000005\n",
      ">20, new best f([0.000457763671875, -0.001678466796875]) = 0.000003\n",
      ">26, new best f([0.0, -0.00091552734375]) = 0.000001\n",
      ">30, new best f([0.000152587890625, -0.000762939453125]) = 0.000001\n",
      ">41, new best f([0.000457763671875, -0.000152587890625]) = 0.000000\n",
      ">42, new best f([0.000152587890625, -0.000152587890625]) = 0.000000\n",
      ">47, new best f([0.0, -0.000152587890625]) = 0.000000\n",
      "Done!\n",
      "f([0.0, -0.000152587890625]) = 0.000000\n"
     ]
    }
   ],
   "source": [
    "# tournament selection\n",
    "def selection(pop, scores, k=3):\n",
    "    # first random selection\n",
    "    selection_ix = np.random.randint(len(pop))\n",
    "    for ix in np.random.randint(0, len(pop), k-1):\n",
    "        # check if better (e.g. perform a tournament)\n",
    "        if scores[ix] < scores[selection_ix]:\n",
    "            selection_ix = ix\n",
    "    return pop[selection_ix]\n",
    " \n",
    "# crossover two parents to create two children\n",
    "def crossover(p1, p2, r_cross):\n",
    "    # children are copies of parents by default\n",
    "    c1, c2 = p1.copy(), p2.copy()\n",
    "    # check for recombination\n",
    "    if np.random.rand() < r_cross:\n",
    "        # select crossover point that is not on the end of the string\n",
    "        pt = np.random.randint(1, len(p1)-2)\n",
    "        # perform crossover\n",
    "        c1 = p1[:pt] + p2[pt:]\n",
    "        c2 = p2[:pt] + p1[pt:]\n",
    "    return [c1, c2]\n",
    " \n",
    "# mutation operator\n",
    "def mutation(bitstring, r_mut):\n",
    "    for i in range(len(bitstring)):\n",
    "        # check for a mutation\n",
    "        if np.random.rand() < r_mut:\n",
    "            # flip the bit\n",
    "            bitstring[i] = 1 - bitstring[i]\n",
    " \n",
    "# genetic algorithm\n",
    "def genetic_algorithm(objective, bounds, n_bits, n_iter, n_pop, r_cross, r_mut):\n",
    "\t# initial population of random bitstring\n",
    "\tpop = [np.random.randint(0, 2, n_bits*len(bounds)).tolist() for _ in range(n_pop)]\n",
    "\t# keep track of best solution\n",
    "\tbest, best_eval = 0, objective(decode(bounds, n_bits, pop[0]))\n",
    "\t# enumerate generations\n",
    "\tfor gen in range(n_iter):\n",
    "\t\t# decode population\n",
    "\t\tdecoded = [decode(bounds, n_bits, p) for p in pop]\n",
    "\t\t# evaluate all candidates in the population\n",
    "\t\tscores = [objective(d) for d in decoded]\n",
    "\t\t# check for new best solution\n",
    "\t\tfor i in range(n_pop):\n",
    "\t\t\tif scores[i] < best_eval:\n",
    "\t\t\t\tbest, best_eval = pop[i], scores[i]\n",
    "\t\t\t\tprint(\">%d, new best f(%s) = %f\" % (gen,  decoded[i], scores[i]))\n",
    "\t\t# select parents\n",
    "\t\tselected = [selection(pop, scores) for _ in range(n_pop)]\n",
    "\t\t# create the next generation\n",
    "\t\tchildren = list()\n",
    "\t\tfor i in range(0, n_pop, 2):\n",
    "\t\t\t# get selected parents in pairs\n",
    "\t\t\tp1, p2 = selected[i], selected[i+1]\n",
    "\t\t\t# crossover and mutation\n",
    "\t\t\tfor c in crossover(p1, p2, r_cross):\n",
    "\t\t\t\t# mutation\n",
    "\t\t\t\tmutation(c, r_mut)\n",
    "\t\t\t\t# store for next generation\n",
    "\t\t\t\tchildren.append(c)\n",
    "\t\t# replace population\n",
    "\t\tpop = children\n",
    "\treturn [best, best_eval]\n",
    " \n",
    "# define range for input\n",
    "bounds = [[-5.0, 5.0], [-5.0, 5.0]]\n",
    "# define the total iterations\n",
    "n_iter = 100\n",
    "# bits per variable\n",
    "n_bits = 16\n",
    "# define the population size\n",
    "n_pop = 100\n",
    "# crossover rate\n",
    "r_cross = 0.9\n",
    "# mutation rate\n",
    "r_mut = 1.0 / (float(n_bits) * len(bounds))\n",
    "# perform the genetic algorithm search\n",
    "best, score = genetic_algorithm(objective, bounds, n_bits, n_iter, n_pop, r_cross, r_mut)\n",
    "print('Done!')\n",
    "decoded = decode(bounds, n_bits, best)\n",
    "print('f(%s) = %f' % (decoded, score))"
   ]
  },
  {
   "cell_type": "code",
   "execution_count": null,
   "id": "e623531c",
   "metadata": {},
   "outputs": [],
   "source": []
  }
 ],
 "metadata": {
  "kernelspec": {
   "display_name": "baseprojects",
   "language": "python",
   "name": "baseprojects"
  },
  "language_info": {
   "codemirror_mode": {
    "name": "ipython",
    "version": 3
   },
   "file_extension": ".py",
   "mimetype": "text/x-python",
   "name": "python",
   "nbconvert_exporter": "python",
   "pygments_lexer": "ipython3",
   "version": "3.9.9"
  }
 },
 "nbformat": 4,
 "nbformat_minor": 5
}
