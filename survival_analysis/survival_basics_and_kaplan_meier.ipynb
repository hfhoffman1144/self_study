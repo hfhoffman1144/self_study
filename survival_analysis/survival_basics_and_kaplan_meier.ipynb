{
 "cells": [
  {
   "cell_type": "markdown",
   "id": "728360dc",
   "metadata": {},
   "source": [
    "# Basics of Survival Analysis and the Kaplan Meier Estimator\n",
    "\n",
    "### Definitions\n",
    "- <b>Survival Analysis:</b> a branch of statistics for analyzing the expected duration of time until one event occurs, such as death in biological organisms and failure in mechanical systems (Wikipedia).\n",
    "\n",
    "\n",
    "- <b>Censoring:</b> a form of missing data problem in which time to event is not observed for reasons such as termination of study before all recruited subjects have shown the event of interest or the subject has left the study prior to experiencing an event. Censoring is common in survival analysis (Wikipedia).\n",
    "\n",
    "\n",
    "- <b>$T$</b>: a non-negative random variable representing the waiting time until the occurence of an event. $T$ has PDF $f(t)$ and CDF $F(t) = P(T < t)$ (the probability that the event has occured by duration $t$).\n",
    "\n",
    "\n",
    "- <b>The Survival Function $S(t)$: </b> $S(t) = P(T \\geq t) = 1-F(t) = \\int_t^{\\infty} f(x) dx$\n",
    "\n",
    "\n",
    "- <b>The Hazard Function $h(t)$:</b> $h(t) = \\lim_{dt->0} \\frac{P(t \\leq  T  \\leq T +dt | T \\geq t)}{dt} = \\frac{f(t)}{S(t)} = \\frac{-d}{dt} logS(t)$ (the instantaneous rate of occurence of an event). Note that $S(t) = exp(-\\int_0^t h(x) dx)$\n",
    "\n",
    "\n",
    "- <b>Kaplan-Meier Estimator (Product Limit Estimator):</b> a non-parametric statistic used to estimate the survival function from survival data.\n",
    "\n",
    "    - $t_i$ - time when at least one event occured\n",
    "    - $d_i$ - # of events that occured at $t_i$\n",
    "    - $n_i$ - # of individuals known to have survived (have not yet had an event or been censored) up to $t_i$\n",
    "    \n",
    "    - ### $\\hat{S}(t) = \\prod_{i:t_i \\leq t}(1-\\frac{d_i}{n_i})$"
   ]
  },
  {
   "cell_type": "markdown",
   "id": "c011348a",
   "metadata": {},
   "source": [
    "#### Dependencies"
   ]
  },
  {
   "cell_type": "code",
   "execution_count": 8,
   "id": "a4cb42f3",
   "metadata": {},
   "outputs": [],
   "source": [
    "import numpy as np\n",
    "import pandas as pd\n",
    "import matplotlib.pyplot as plt\n",
    "import seaborn as sns\n",
    "%matplotlib inline"
   ]
  },
  {
   "cell_type": "markdown",
   "id": "70890587",
   "metadata": {},
   "source": [
    "#### Kaplan-Meier curve from scratch"
   ]
  },
  {
   "cell_type": "code",
   "execution_count": 16,
   "id": "e891e630",
   "metadata": {},
   "outputs": [],
   "source": [
    "def kaplan_meier_curve(duration:np.array, event:np.array):\n",
    "    \n",
    "    \"\"\"\n",
    "    Get the data needed to plot the Kaplan-Meier Curve\n",
    "    TODO: add confidence intervals\n",
    "\n",
    "    Parameters\n",
    "    ----------\n",
    "    duration : np.ndarray or list\n",
    "        An array of times until each individual experienced an event or was censored\n",
    "        \n",
    "    event : np.ndarray or list\n",
    "        An array of boolean values (0 if the individual was censored, 1 if they experienced an event)\n",
    "\n",
    "    Returns\n",
    "    -------\n",
    "    A pandas DataFrame with columns representing the duration and the probability of surviving at least\n",
    "    to the corresponding duration\n",
    "\n",
    "    \"\"\"\n",
    "    \n",
    "    if (type(duration) != list) and (type(duration) != np.ndarray):\n",
    "        \n",
    "        raise TypeError('Invalid data type for duration')\n",
    "        \n",
    "    if (type(event) != list) and (type(event) != np.ndarray):\n",
    "        \n",
    "        raise TypeError('Invalid data type for event')\n",
    "        \n",
    "    if len(duration) != len(event):\n",
    "        \n",
    "        raise ValueError('duration and event must have the same length')\n",
    "    \n",
    "    # Convert to dataframe to utilize pandas group by\n",
    "    data = pd.DataFrame({'duration':duration, 'event':event})\n",
    "    \n",
    "    # This will be used to determine the # of individuals at risk at each time\n",
    "    data['left'] = -1\n",
    "    \n",
    "    by_duration = data.groupby('duration').sum().reset_index()\n",
    "    by_duration.rename({'event':'num_death'}, axis=1, inplace=True)\n",
    "\n",
    "    start_point = pd.DataFrame({'duration':0, 'num_death':0, 'left':0},index=[0])\n",
    "    by_duration = pd.concat([start_point, by_duration]).reset_index(drop=True)\n",
    "\n",
    "    by_duration['total_at_risk'] = by_duration['left'].cumsum().shift(1) + len(data)\n",
    "\n",
    "\n",
    "    by_duration['hazard'] = by_duration['num_death'] / by_duration['total_at_risk']\n",
    "\n",
    "    by_duration['non_hazard'] = 1 - by_duration['hazard']\n",
    "\n",
    "    by_duration['total_at_risk'] = np.where(by_duration['total_at_risk'].isna(), len(data), by_duration['total_at_risk'])\n",
    "    by_duration['hazard'] = np.where(by_duration['hazard'].isna(), 0, by_duration['hazard'])\n",
    "    by_duration['non_hazard'] = np.where(by_duration['non_hazard'].isna(), 1, by_duration['non_hazard'])\n",
    "\n",
    "    by_duration['survival'] = by_duration['non_hazard'].cumprod()\n",
    "\n",
    "    by_duration = by_duration[(by_duration['num_death'] > 0) | (by_duration['left'] == 0)]\n",
    "\n",
    "    return by_duration[['duration','survival']]\n",
    "\n"
   ]
  },
  {
   "cell_type": "code",
   "execution_count": 17,
   "id": "535df940",
   "metadata": {},
   "outputs": [
    {
     "data": {
      "text/html": [
       "<div>\n",
       "<style scoped>\n",
       "    .dataframe tbody tr th:only-of-type {\n",
       "        vertical-align: middle;\n",
       "    }\n",
       "\n",
       "    .dataframe tbody tr th {\n",
       "        vertical-align: top;\n",
       "    }\n",
       "\n",
       "    .dataframe thead th {\n",
       "        text-align: right;\n",
       "    }\n",
       "</style>\n",
       "<table border=\"1\" class=\"dataframe\">\n",
       "  <thead>\n",
       "    <tr style=\"text-align: right;\">\n",
       "      <th></th>\n",
       "      <th>duration</th>\n",
       "      <th>event</th>\n",
       "    </tr>\n",
       "  </thead>\n",
       "  <tbody>\n",
       "    <tr>\n",
       "      <th>0</th>\n",
       "      <td>2</td>\n",
       "      <td>1</td>\n",
       "    </tr>\n",
       "    <tr>\n",
       "      <th>1</th>\n",
       "      <td>3</td>\n",
       "      <td>0</td>\n",
       "    </tr>\n",
       "    <tr>\n",
       "      <th>2</th>\n",
       "      <td>6</td>\n",
       "      <td>1</td>\n",
       "    </tr>\n",
       "    <tr>\n",
       "      <th>3</th>\n",
       "      <td>6</td>\n",
       "      <td>1</td>\n",
       "    </tr>\n",
       "    <tr>\n",
       "      <th>4</th>\n",
       "      <td>7</td>\n",
       "      <td>1</td>\n",
       "    </tr>\n",
       "    <tr>\n",
       "      <th>5</th>\n",
       "      <td>10</td>\n",
       "      <td>0</td>\n",
       "    </tr>\n",
       "    <tr>\n",
       "      <th>6</th>\n",
       "      <td>15</td>\n",
       "      <td>1</td>\n",
       "    </tr>\n",
       "    <tr>\n",
       "      <th>7</th>\n",
       "      <td>15</td>\n",
       "      <td>1</td>\n",
       "    </tr>\n",
       "    <tr>\n",
       "      <th>8</th>\n",
       "      <td>16</td>\n",
       "      <td>1</td>\n",
       "    </tr>\n",
       "    <tr>\n",
       "      <th>9</th>\n",
       "      <td>27</td>\n",
       "      <td>1</td>\n",
       "    </tr>\n",
       "    <tr>\n",
       "      <th>10</th>\n",
       "      <td>30</td>\n",
       "      <td>1</td>\n",
       "    </tr>\n",
       "    <tr>\n",
       "      <th>11</th>\n",
       "      <td>32</td>\n",
       "      <td>1</td>\n",
       "    </tr>\n",
       "  </tbody>\n",
       "</table>\n",
       "</div>"
      ],
      "text/plain": [
       "    duration  event\n",
       "0          2      1\n",
       "1          3      0\n",
       "2          6      1\n",
       "3          6      1\n",
       "4          7      1\n",
       "5         10      0\n",
       "6         15      1\n",
       "7         15      1\n",
       "8         16      1\n",
       "9         27      1\n",
       "10        30      1\n",
       "11        32      1"
      ]
     },
     "execution_count": 17,
     "metadata": {},
     "output_type": "execute_result"
    }
   ],
   "source": [
    "# Test on fake data\n",
    "# Each row represents either the time when an individual experienced an event (event = 1) or the time\n",
    "# when an individual was censored (event = 0)\n",
    "data = pd.DataFrame({'duration':[2,3,6,6,7,10,15,15,16,27,30,32],\n",
    "                     'event':[1,0,1,1,1,0,1,1,1,1,1,1]})\n",
    "\n",
    "data"
   ]
  },
  {
   "cell_type": "code",
   "execution_count": 18,
   "id": "ea89c5fc",
   "metadata": {},
   "outputs": [
    {
     "data": {
      "text/plain": [
       "True"
      ]
     },
     "execution_count": 18,
     "metadata": {},
     "output_type": "execute_result"
    }
   ],
   "source": [
    "type(data['duration'].values) == np.ndarray"
   ]
  },
  {
   "cell_type": "code",
   "execution_count": 19,
   "id": "19910aba",
   "metadata": {},
   "outputs": [
    {
     "data": {
      "text/html": [
       "<div>\n",
       "<style scoped>\n",
       "    .dataframe tbody tr th:only-of-type {\n",
       "        vertical-align: middle;\n",
       "    }\n",
       "\n",
       "    .dataframe tbody tr th {\n",
       "        vertical-align: top;\n",
       "    }\n",
       "\n",
       "    .dataframe thead th {\n",
       "        text-align: right;\n",
       "    }\n",
       "</style>\n",
       "<table border=\"1\" class=\"dataframe\">\n",
       "  <thead>\n",
       "    <tr style=\"text-align: right;\">\n",
       "      <th></th>\n",
       "      <th>duration</th>\n",
       "      <th>survival</th>\n",
       "    </tr>\n",
       "  </thead>\n",
       "  <tbody>\n",
       "    <tr>\n",
       "      <th>0</th>\n",
       "      <td>0</td>\n",
       "      <td>1.000000</td>\n",
       "    </tr>\n",
       "    <tr>\n",
       "      <th>1</th>\n",
       "      <td>2</td>\n",
       "      <td>0.916667</td>\n",
       "    </tr>\n",
       "    <tr>\n",
       "      <th>3</th>\n",
       "      <td>6</td>\n",
       "      <td>0.733333</td>\n",
       "    </tr>\n",
       "    <tr>\n",
       "      <th>4</th>\n",
       "      <td>7</td>\n",
       "      <td>0.641667</td>\n",
       "    </tr>\n",
       "    <tr>\n",
       "      <th>6</th>\n",
       "      <td>15</td>\n",
       "      <td>0.427778</td>\n",
       "    </tr>\n",
       "    <tr>\n",
       "      <th>7</th>\n",
       "      <td>16</td>\n",
       "      <td>0.320833</td>\n",
       "    </tr>\n",
       "    <tr>\n",
       "      <th>8</th>\n",
       "      <td>27</td>\n",
       "      <td>0.213889</td>\n",
       "    </tr>\n",
       "    <tr>\n",
       "      <th>9</th>\n",
       "      <td>30</td>\n",
       "      <td>0.106944</td>\n",
       "    </tr>\n",
       "    <tr>\n",
       "      <th>10</th>\n",
       "      <td>32</td>\n",
       "      <td>0.000000</td>\n",
       "    </tr>\n",
       "  </tbody>\n",
       "</table>\n",
       "</div>"
      ],
      "text/plain": [
       "    duration  survival\n",
       "0          0  1.000000\n",
       "1          2  0.916667\n",
       "3          6  0.733333\n",
       "4          7  0.641667\n",
       "6         15  0.427778\n",
       "7         16  0.320833\n",
       "8         27  0.213889\n",
       "9         30  0.106944\n",
       "10        32  0.000000"
      ]
     },
     "execution_count": 19,
     "metadata": {},
     "output_type": "execute_result"
    }
   ],
   "source": [
    "km_data = kaplan_meier_curve(data['duration'].values, data['event'].values)\n",
    "km_data"
   ]
  },
  {
   "cell_type": "code",
   "execution_count": 20,
   "id": "31ecc4bb",
   "metadata": {},
   "outputs": [
    {
     "data": {
      "text/plain": [
       "Text(0.5, 1.0, 'Kaplan Meier Curve')"
      ]
     },
     "execution_count": 20,
     "metadata": {},
     "output_type": "execute_result"
    },
    {
     "data": {
      "image/png": "[encoded data removed]",
      "text/plain": [
       "<Figure size 720x432 with 1 Axes>"
      ]
     },
     "metadata": {
      "needs_background": "light"
     },
     "output_type": "display_data"
    }
   ],
   "source": [
    "fig,ax = plt.subplots(figsize=(10,6))\n",
    "ax.scatter(km_data['duration'], km_data['survival'])\n",
    "ax.plot(km_data['duration'], km_data['survival'])\n",
    "ax.set_xlabel('t')\n",
    "ax.set_ylabel('S(t)')\n",
    "ax.set_title('Kaplan Meier Curve')"
   ]
  },
  {
   "cell_type": "markdown",
   "id": "349bea24",
   "metadata": {},
   "source": [
    "#### On a larger data set"
   ]
  },
  {
   "cell_type": "code",
   "execution_count": 30,
   "id": "ef3c36ba",
   "metadata": {},
   "outputs": [
    {
     "data": {
      "text/html": [
       "<div>\n",
       "<style scoped>\n",
       "    .dataframe tbody tr th:only-of-type {\n",
       "        vertical-align: middle;\n",
       "    }\n",
       "\n",
       "    .dataframe tbody tr th {\n",
       "        vertical-align: top;\n",
       "    }\n",
       "\n",
       "    .dataframe thead th {\n",
       "        text-align: right;\n",
       "    }\n",
       "</style>\n",
       "<table border=\"1\" class=\"dataframe\">\n",
       "  <thead>\n",
       "    <tr style=\"text-align: right;\">\n",
       "      <th></th>\n",
       "      <th>duration</th>\n",
       "      <th>survival</th>\n",
       "    </tr>\n",
       "  </thead>\n",
       "  <tbody>\n",
       "    <tr>\n",
       "      <th>0</th>\n",
       "      <td>0</td>\n",
       "      <td>1.000000</td>\n",
       "    </tr>\n",
       "    <tr>\n",
       "      <th>1</th>\n",
       "      <td>1</td>\n",
       "      <td>0.999030</td>\n",
       "    </tr>\n",
       "    <tr>\n",
       "      <th>2</th>\n",
       "      <td>2</td>\n",
       "      <td>0.997980</td>\n",
       "    </tr>\n",
       "    <tr>\n",
       "      <th>3</th>\n",
       "      <td>3</td>\n",
       "      <td>0.996870</td>\n",
       "    </tr>\n",
       "    <tr>\n",
       "      <th>4</th>\n",
       "      <td>4</td>\n",
       "      <td>0.995769</td>\n",
       "    </tr>\n",
       "    <tr>\n",
       "      <th>...</th>\n",
       "      <td>...</td>\n",
       "      <td>...</td>\n",
       "    </tr>\n",
       "    <tr>\n",
       "      <th>95</th>\n",
       "      <td>95</td>\n",
       "      <td>0.732695</td>\n",
       "    </tr>\n",
       "    <tr>\n",
       "      <th>96</th>\n",
       "      <td>96</td>\n",
       "      <td>0.716175</td>\n",
       "    </tr>\n",
       "    <tr>\n",
       "      <th>97</th>\n",
       "      <td>97</td>\n",
       "      <td>0.693373</td>\n",
       "    </tr>\n",
       "    <tr>\n",
       "      <th>98</th>\n",
       "      <td>98</td>\n",
       "      <td>0.661521</td>\n",
       "    </tr>\n",
       "    <tr>\n",
       "      <th>99</th>\n",
       "      <td>99</td>\n",
       "      <td>0.592426</td>\n",
       "    </tr>\n",
       "  </tbody>\n",
       "</table>\n",
       "<p>100 rows × 2 columns</p>\n",
       "</div>"
      ],
      "text/plain": [
       "    duration  survival\n",
       "0          0  1.000000\n",
       "1          1  0.999030\n",
       "2          2  0.997980\n",
       "3          3  0.996870\n",
       "4          4  0.995769\n",
       "..       ...       ...\n",
       "95        95  0.732695\n",
       "96        96  0.716175\n",
       "97        97  0.693373\n",
       "98        98  0.661521\n",
       "99        99  0.592426\n",
       "\n",
       "[100 rows x 2 columns]"
      ]
     },
     "execution_count": 30,
     "metadata": {},
     "output_type": "execute_result"
    }
   ],
   "source": [
    "duration = np.random.randint(low=1, high=100, size=100000)\n",
    "event = np.random.choice([0,1], p=[0.90, 0.1], size=100000)\n",
    "\n",
    "km_data = kaplan_meier_curve(duration, event)\n",
    "km_data"
   ]
  },
  {
   "cell_type": "code",
   "execution_count": 31,
   "id": "dee29a13",
   "metadata": {},
   "outputs": [
    {
     "data": {
      "text/plain": [
       "Text(0.5, 1.0, 'Kaplan Meier Curve')"
      ]
     },
     "execution_count": 31,
     "metadata": {},
     "output_type": "execute_result"
    },
    {
     "data": {
      "image/png": "[encoded data removed]",
      "text/plain": [
       "<Figure size 720x432 with 1 Axes>"
      ]
     },
     "metadata": {
      "needs_background": "light"
     },
     "output_type": "display_data"
    }
   ],
   "source": [
    "fig,ax = plt.subplots(figsize=(10,6))\n",
    "ax.scatter(km_data['duration'], km_data['survival'])\n",
    "ax.plot(km_data['duration'], km_data['survival'])\n",
    "ax.set_xlabel('t')\n",
    "ax.set_ylabel('S(t)')\n",
    "ax.set_title('Kaplan Meier Curve')"
   ]
  },
  {
   "cell_type": "code",
   "execution_count": null,
   "id": "aeae549c",
   "metadata": {},
   "outputs": [],
   "source": []
  }
 ],
 "metadata": {
  "kernelspec": {
   "display_name": "baseprojects",
   "language": "python",
   "name": "baseprojects"
  },
  "language_info": {
   "codemirror_mode": {
    "name": "ipython",
    "version": 3
   },
   "file_extension": ".py",
   "mimetype": "text/x-python",
   "name": "python",
   "nbconvert_exporter": "python",
   "pygments_lexer": "ipython3",
   "version": "3.9.9"
  }
 },
 "nbformat": 4,
 "nbformat_minor": 5
}
